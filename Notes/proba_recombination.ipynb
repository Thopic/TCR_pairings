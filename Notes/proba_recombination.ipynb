{
 "cells": [
  {
   "cell_type": "markdown",
   "metadata": {},
   "source": [
    "# Probabilities of recombination"
   ]
  },
  {
   "cell_type": "code",
   "execution_count": 1,
   "metadata": {},
   "outputs": [],
   "source": [
    "from __future__ import division, print_function\n",
    "from IPython.display import display, HTML, Math, Latex\n",
    "import pandas as pd\n",
    "import numpy as np\n",
    "import seaborn as sns\n",
    "import matplotlib.pyplot as plt\n",
    "from math import log, sqrt, factorial\n",
    "from scipy import stats, optimize"
   ]
  },
  {
   "cell_type": "markdown",
   "metadata": {},
   "source": [
    "## gDNA sequences"
   ]
  },
  {
   "cell_type": "markdown",
   "metadata": {},
   "source": [
    "The two graph below are showing the allowed value of $p_r$ and $p_r^{\\prime}$, computed using the gdna data."
   ]
  },
  {
   "cell_type": "code",
   "execution_count": 2,
   "metadata": {},
   "outputs": [
    {
     "data": {
      "image/png": "[encoded data removed]",
      "text/plain": [
       "<Figure size 864x360 with 2 Axes>"
      ]
     },
     "metadata": {},
     "output_type": "display_data"
    }
   ],
   "source": [
    "def pf(pr, prp, pc, p_nc_obs):\n",
    "    return 1./(2.*pc*pr + 1e-8)*(2*pr+1+prp - (pr+prp)*(1-pc)*(1./p_nc_obs))\n",
    "\n",
    "def p_prod_possible(pc, p_out_observed, err):\n",
    "    n_grid = 100 # increase for better precision\n",
    "    img = np.zeros((n_grid,n_grid))\n",
    "    img.fill(float(0))\n",
    "    for k in range(n_grid):\n",
    "        for l in range(n_grid):\n",
    "            # taking into account the error bar\n",
    "            for p_out in np.arange(p_out_observed - err,\n",
    "                                   p_out_observed + err,\n",
    "                                  1e-3):\n",
    "                p = pf(l/n_grid, k/n_grid, pc, p_out)\n",
    "                if p <= 1. and p >= 0.:\n",
    "                    img[n_grid - 1 - k, l] = 1\n",
    "                    break\n",
    "    return img\n",
    "\n",
    "\n",
    "pc_a = 1 - 2/3 - 0.028\n",
    "pc_b = 1 - 2/3 - 0.0678\n",
    "\n",
    "with plt.style.context(\"seaborn-white\"):\n",
    "    fig, (ax1, ax2) = plt.subplots(1,2,figsize=(12, 5))\n",
    "    img_beta = p_prod_possible(pc_b, 0.18, 0.03)\n",
    "    img_alpha = p_prod_possible(pc_a, 0.40, 0.01)\n",
    "\n",
    "    ax1.imshow(img_beta, extent=(0,1,0,1))\n",
    "    ax2.imshow(img_alpha, extent=(0,1,0,1))\n",
    "    ax1.grid(False)\n",
    "    ax2.grid(False)\n",
    "    ax1.set_title(r\"$\\beta$\")\n",
    "    ax1.set_xlabel(r\"$p_r$\")\n",
    "    ax1.set_ylabel(r\"$p_r^{\\prime}$\")\n",
    "\n",
    "    ax2.set_title(r\"$\\alpha$\")\n",
    "    ax2.set_xlabel(r\"$p_r$\")\n",
    "    ax2.set_ylabel(r\"$p_r^{\\prime}$\")\n",
    "    plt.savefig(\"gdna_results.pdf\")\n",
    "    plt.show()"
   ]
  },
  {
   "cell_type": "markdown",
   "metadata": {},
   "source": [
    "## RNA sequences"
   ]
  },
  {
   "cell_type": "markdown",
   "metadata": {},
   "source": [
    "This notebook details the fits associated with the figure S3."
   ]
  },
  {
   "cell_type": "code",
   "execution_count": 3,
   "metadata": {},
   "outputs": [],
   "source": [
    "# Experiment selection : \n",
    "experiment=\"exp3\""
   ]
  },
  {
   "cell_type": "code",
   "execution_count": 6,
   "metadata": {},
   "outputs": [],
   "source": [
    "filepairsab = \"../Datas/\"+experiment+\"/pairs_ab.tsv.gz\"\n",
    "filepairsaa = \"../Datas/\"+experiment+\"/pairs_aa.tsv.gz\"\n",
    "filepairsbb = \"../Datas/\"+experiment+\"/pairs_bb.tsv.gz\""
   ]
  },
  {
   "cell_type": "code",
   "execution_count": 7,
   "metadata": {},
   "outputs": [
    {
     "name": "stdout",
     "output_type": "stream",
     "text": [
      "length ; vOut :  23433 ,  vE :  11740 ,  vInin :  35236\n",
      "Proportion of exposed-exposed cells:  0.4\n",
      "Best fit:  (0.3, 0.7)\n"
     ]
    }
   ],
   "source": [
    "N = 1000\n",
    "Nmin = 10\n",
    "dfaa = pd.read_csv(filepairsaa, sep=\"\\t\")\n",
    "dfaa = dfaa[(dfaa.nb_wells_1 > 5) & (dfaa.nb_wells_2 > 5) & \n",
    "               (dfaa.nb_wells_1 < 70) & (dfaa.nb_wells_2 < 70) &\n",
    "               (dfaa.distance > 20)]\n",
    "dfaa[dfaa.distance >= 20]\n",
    "df = dfaa\n",
    "\n",
    "Nmin = 10\n",
    "N=1000\n",
    "nbbins = 20\n",
    "vOut = np.concatenate((df[df.status_2 == \"Out\"].copy_2.values,\n",
    "                       df[df.status_1 == \"Out\"].copy_1.values))\n",
    "\n",
    "hOut = np.histogram(vOut, bins=nbbins, range=(Nmin,N), density=True)[0]\n",
    "vE = df[df.status_2 == \"Out\"].copy_1.values\n",
    "hE = np.histogram(vE, bins=nbbins, range=(Nmin,N), density=True)[0]\n",
    "vInin = np.concatenate((df[(df.status_1 == \"In\") & (df.status_2 == \"In\")].copy_1.values,\n",
    "                       df[(df.status_1 == \"In\") & (df.status_2 == \"In\")].copy_2.values))\n",
    "hInin = np.histogram(vInin, bins=nbbins, range=(Nmin,N), density=True)[0]\n",
    "\n",
    "\n",
    "print(\"length ; vOut : \", len(vOut), \",  vE : \", len(vE), \",  vInin : \", len(vInin))\n",
    "\n",
    "mini = 1e12\n",
    "best = (-1, -1)\n",
    "for p in np.arange(0.,1.,0.01):\n",
    "    tot = sum([(aIn - p*aOut - (1-p)*aE)**2 for (aIn, aOut, aE)\n",
    "            in zip(hInin, hOut, hE)])\n",
    "    if(tot < mini):\n",
    "        best = (p, 1-p)\n",
    "        mini = tot\n",
    "\n",
    "nplin = np.linspace(Nmin,N,nbbins)\n",
    "fitres = best[0]*hOut + best[1]*hE\n",
    "p = best[0]\n",
    "propEE = 1 - 2*p\n",
    "pm10 = p - 10/100\n",
    "pp10 = p + 10/100 \n",
    "\n",
    "print(\"Proportion of exposed-exposed cells: \", propEE)\n",
    "print(\"Best fit: \", best)\n",
    "\n",
    "hOut = np.histogram(vOut, bins=nbbins, range=(Nmin,N), density=True)[0]\n",
    "hE = np.histogram(vE, bins=nbbins, range=(Nmin,N), density=True)[0]\n",
    "hInin = np.histogram(vInin, bins=nbbins, range=(Nmin,N), density=True)[0]\n",
    "fitresm10 = pm10*hOut + (1-pm10)*hE\n",
    "fitresp10 = pp10*hOut + (1-pp10)*hE\n",
    "fitres = p*hOut + (1-p)*hE\n",
    "nplin = np.linspace(Nmin,N,nbbins)\n"
   ]
  },
  {
   "cell_type": "code",
   "execution_count": 8,
   "metadata": {},
   "outputs": [
    {
     "data": {
      "image/png": "[encoded data removed]",
      "text/plain": [
       "<Figure size 720x504 with 3 Axes>"
      ]
     },
     "metadata": {},
     "output_type": "display_data"
    }
   ],
   "source": [
    "sns.set(palette=\"deep\", style=\"white\")\n",
    "f, (ax1,ax2,ax3) = plt.subplots(3,1,figsize=(10, 7), sharex=True)\n",
    "\n",
    "ax1.bar(nplin, hOut, label=\"Out-of-frame\",\n",
    "                 color='xkcd:light red', alpha=1, width=N/nbbins*1.1)\n",
    "\n",
    "ax2.bar(nplin, hE, label=\"Functional\", \n",
    "                 color='xkcd:cornflower', alpha=1, width=(N/nbbins)*1.1)\n",
    "\n",
    "\n",
    "ax3.bar(nplin,hInin, label=\"In-frame (In pairs)\",\n",
    "                 color='xkcd:greyish purple', alpha=1, width=(N/nbbins)*1.1)\n",
    "ax3.step(nplin,fitresm10, \n",
    "             linewidth=1.2, color='xkcd:black', where='mid',linestyle='dashed')\n",
    "ax3.step(nplin,fitresp10, \n",
    "            linewidth=1.2, color='xkcd:black', where='mid',linestyle='dashed')\n",
    "ax3.step(nplin,fitres, \n",
    "             linewidth=1.2, color='xkcd:black', where='mid')\n",
    "\n",
    "ax1.set(xlim=(Nmin, N), xlabel=\"\")\n",
    "ax1.legend(loc=(0.76,0.8))\n",
    "ax2.set(xlim=(Nmin, N-10), xlabel=\"\")\n",
    "ax2.legend(loc=(0.76,0.8))\n",
    "ax3.set(xlim=(Nmin, N-N/nbbins), xlabel=\"Number of copies\")\n",
    "ax3.legend(loc=(0.76,0.8))\n",
    "plt.xlim([20,1000])\n",
    "plt.show()\n"
   ]
  }
 ],
 "metadata": {
  "kernelspec": {
   "display_name": "Python 3",
   "language": "python",
   "name": "python3"
  },
  "language_info": {
   "codemirror_mode": {
    "name": "ipython",
    "version": 3
   },
   "file_extension": ".py",
   "mimetype": "text/x-python",
   "name": "python",
   "nbconvert_exporter": "python",
   "pygments_lexer": "ipython3",
   "version": "3.6.7"
  }
 },
 "nbformat": 4,
 "nbformat_minor": 2
}
