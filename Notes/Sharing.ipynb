{
 "cells": [
  {
   "cell_type": "code",
   "execution_count": 2,
   "metadata": {},
   "outputs": [],
   "source": [
    "from __future__ import division, print_function\n",
    "import pandas as pd\n",
    "import hashlib\n",
    "import numpy as np\n",
    "import seaborn as sns\n",
    "import matplotlib.pyplot as plt\n",
    "from scipy.interpolate import interp1d\n",
    "from scipy import integrate\n",
    "from scipy.special import binom"
   ]
  },
  {
   "cell_type": "markdown",
   "metadata": {},
   "source": [
    "For size reasons, some of the csv used in this notebook are not disponible on github and need to be generated using IGoR (https://github.com/qmarcou/IGoR). The generation command of IGoR is:\n",
    "```{bash}\n",
    "igor -set_wd ./ -species human -chain beta -generate 100000\n",
    "```"
   ]
  },
  {
   "cell_type": "markdown",
   "metadata": {},
   "source": [
    "## Beta sequences"
   ]
  },
  {
   "cell_type": "code",
   "execution_count": 5,
   "metadata": {},
   "outputs": [],
   "source": [
    "dfby_exp = pd.read_csv(\"../Datas/sharing/exp_gdna_CDR3_beta_Y.tsv.gz\", sep=\"\\t\"\n",
    "                     ,header=None, names=[\"CDR3\", \"sequence\", \"amino\", \"_\", \"__\", \"___\"])\n",
    "dfbx_exp = pd.read_csv(\"../Datas/sharing/exp_gdna_CDR3_beta_X.tsv.gz\", sep=\"\\t\"\n",
    "                     ,header=None, names=[\"CDR3\", \"sequence\", \"amino\", \"_\", \"__\", \"___\"])\n",
    "\n",
    "# need to be generated first\n",
    "# need roughly 100 000 000 sequences, remove out-of-frame sequences for size (sequences without a CDR3) \n",
    "dfb_gen = pd.read_csv(\"../../published_code/Datas/sharing/gen_CDR3_beta_werr_inframe.tsv.gz\", sep=\"\\t\",\n",
    "                     header=None, names=[\"CDR3\", \"sequence\", \"amino\", \"_\", \"__\", \"___\"])"
   ]
  },
  {
   "cell_type": "code",
   "execution_count": 6,
   "metadata": {},
   "outputs": [
    {
     "ename": "MemoryError",
     "evalue": "",
     "output_type": "error",
     "traceback": [
      "\u001b[0;31m---------------------------------------------------------------------------\u001b[0m",
      "\u001b[0;31mMemoryError\u001b[0m                               Traceback (most recent call last)",
      "\u001b[0;32m<ipython-input-6-ed354fbcdfdf>\u001b[0m in \u001b[0;36m<module>\u001b[0;34m\u001b[0m\n\u001b[1;32m      6\u001b[0m \u001b[0mdfby_exp_prod\u001b[0m \u001b[0;34m=\u001b[0m \u001b[0mdfby_exp\u001b[0m\u001b[0;34m[\u001b[0m\u001b[0mdfby_exp\u001b[0m\u001b[0;34m.\u001b[0m\u001b[0misinframe\u001b[0m \u001b[0;34m&\u001b[0m \u001b[0;34m~\u001b[0m\u001b[0mdfby_exp\u001b[0m\u001b[0;34m.\u001b[0m\u001b[0mstopcodon\u001b[0m\u001b[0;34m]\u001b[0m\u001b[0;34m.\u001b[0m\u001b[0mcopy\u001b[0m\u001b[0;34m(\u001b[0m\u001b[0;34m)\u001b[0m\u001b[0;34m\u001b[0m\u001b[0;34m\u001b[0m\u001b[0m\n\u001b[1;32m      7\u001b[0m \u001b[0mdfbx_exp_prod\u001b[0m \u001b[0;34m=\u001b[0m \u001b[0mdfbx_exp\u001b[0m\u001b[0;34m[\u001b[0m\u001b[0mdfbx_exp\u001b[0m\u001b[0;34m.\u001b[0m\u001b[0misinframe\u001b[0m \u001b[0;34m&\u001b[0m \u001b[0;34m~\u001b[0m\u001b[0mdfbx_exp\u001b[0m\u001b[0;34m.\u001b[0m\u001b[0mstopcodon\u001b[0m\u001b[0;34m]\u001b[0m\u001b[0;34m.\u001b[0m\u001b[0mcopy\u001b[0m\u001b[0;34m(\u001b[0m\u001b[0;34m)\u001b[0m\u001b[0;34m\u001b[0m\u001b[0;34m\u001b[0m\u001b[0m\n\u001b[0;32m----> 8\u001b[0;31m \u001b[0mdfb_gen_prod\u001b[0m \u001b[0;34m=\u001b[0m \u001b[0mdfb_gen\u001b[0m\u001b[0;34m[\u001b[0m\u001b[0mdfb_gen\u001b[0m\u001b[0;34m.\u001b[0m\u001b[0misinframe\u001b[0m \u001b[0;34m&\u001b[0m \u001b[0;34m~\u001b[0m\u001b[0mdfb_gen\u001b[0m\u001b[0;34m.\u001b[0m\u001b[0mstopcodon\u001b[0m\u001b[0;34m]\u001b[0m\u001b[0;34m.\u001b[0m\u001b[0mcopy\u001b[0m\u001b[0;34m(\u001b[0m\u001b[0;34m)\u001b[0m\u001b[0;34m\u001b[0m\u001b[0;34m\u001b[0m\u001b[0m\n\u001b[0m\u001b[1;32m      9\u001b[0m \u001b[0;34m\u001b[0m\u001b[0m\n\u001b[1;32m     10\u001b[0m \u001b[0;31m# hash function definition\u001b[0m\u001b[0;34m\u001b[0m\u001b[0;34m\u001b[0m\u001b[0;34m\u001b[0m\u001b[0m\n",
      "\u001b[0;32m~/.local/lib/python3.6/site-packages/pandas/core/generic.py\u001b[0m in \u001b[0;36mcopy\u001b[0;34m(self, deep)\u001b[0m\n\u001b[1;32m   5112\u001b[0m         \u001b[0mdtype\u001b[0m\u001b[0;34m:\u001b[0m \u001b[0mobject\u001b[0m\u001b[0;34m\u001b[0m\u001b[0;34m\u001b[0m\u001b[0m\n\u001b[1;32m   5113\u001b[0m         \"\"\"\n\u001b[0;32m-> 5114\u001b[0;31m         \u001b[0mdata\u001b[0m \u001b[0;34m=\u001b[0m \u001b[0mself\u001b[0m\u001b[0;34m.\u001b[0m\u001b[0m_data\u001b[0m\u001b[0;34m.\u001b[0m\u001b[0mcopy\u001b[0m\u001b[0;34m(\u001b[0m\u001b[0mdeep\u001b[0m\u001b[0;34m=\u001b[0m\u001b[0mdeep\u001b[0m\u001b[0;34m)\u001b[0m\u001b[0;34m\u001b[0m\u001b[0;34m\u001b[0m\u001b[0m\n\u001b[0m\u001b[1;32m   5115\u001b[0m         \u001b[0;32mreturn\u001b[0m \u001b[0mself\u001b[0m\u001b[0;34m.\u001b[0m\u001b[0m_constructor\u001b[0m\u001b[0;34m(\u001b[0m\u001b[0mdata\u001b[0m\u001b[0;34m)\u001b[0m\u001b[0;34m.\u001b[0m\u001b[0m__finalize__\u001b[0m\u001b[0;34m(\u001b[0m\u001b[0mself\u001b[0m\u001b[0;34m)\u001b[0m\u001b[0;34m\u001b[0m\u001b[0;34m\u001b[0m\u001b[0m\n\u001b[1;32m   5116\u001b[0m \u001b[0;34m\u001b[0m\u001b[0m\n",
      "\u001b[0;32m~/.local/lib/python3.6/site-packages/pandas/core/internals.py\u001b[0m in \u001b[0;36mcopy\u001b[0;34m(self, deep, mgr)\u001b[0m\n\u001b[1;32m   3918\u001b[0m             \u001b[0mnew_axes\u001b[0m \u001b[0;34m=\u001b[0m \u001b[0mlist\u001b[0m\u001b[0;34m(\u001b[0m\u001b[0mself\u001b[0m\u001b[0;34m.\u001b[0m\u001b[0maxes\u001b[0m\u001b[0;34m)\u001b[0m\u001b[0;34m\u001b[0m\u001b[0;34m\u001b[0m\u001b[0m\n\u001b[1;32m   3919\u001b[0m         return self.apply('copy', axes=new_axes, deep=deep,\n\u001b[0;32m-> 3920\u001b[0;31m                           do_integrity_check=False)\n\u001b[0m\u001b[1;32m   3921\u001b[0m \u001b[0;34m\u001b[0m\u001b[0m\n\u001b[1;32m   3922\u001b[0m     \u001b[0;32mdef\u001b[0m \u001b[0mas_array\u001b[0m\u001b[0;34m(\u001b[0m\u001b[0mself\u001b[0m\u001b[0;34m,\u001b[0m \u001b[0mtranspose\u001b[0m\u001b[0;34m=\u001b[0m\u001b[0;32mFalse\u001b[0m\u001b[0;34m,\u001b[0m \u001b[0mitems\u001b[0m\u001b[0;34m=\u001b[0m\u001b[0;32mNone\u001b[0m\u001b[0;34m)\u001b[0m\u001b[0;34m:\u001b[0m\u001b[0;34m\u001b[0m\u001b[0;34m\u001b[0m\u001b[0m\n",
      "\u001b[0;32m~/.local/lib/python3.6/site-packages/pandas/core/internals.py\u001b[0m in \u001b[0;36mapply\u001b[0;34m(self, f, axes, filter, do_integrity_check, consolidate, **kwargs)\u001b[0m\n\u001b[1;32m   3579\u001b[0m \u001b[0;34m\u001b[0m\u001b[0m\n\u001b[1;32m   3580\u001b[0m             \u001b[0mkwargs\u001b[0m\u001b[0;34m[\u001b[0m\u001b[0;34m'mgr'\u001b[0m\u001b[0;34m]\u001b[0m \u001b[0;34m=\u001b[0m \u001b[0mself\u001b[0m\u001b[0;34m\u001b[0m\u001b[0;34m\u001b[0m\u001b[0m\n\u001b[0;32m-> 3581\u001b[0;31m             \u001b[0mapplied\u001b[0m \u001b[0;34m=\u001b[0m \u001b[0mgetattr\u001b[0m\u001b[0;34m(\u001b[0m\u001b[0mb\u001b[0m\u001b[0;34m,\u001b[0m \u001b[0mf\u001b[0m\u001b[0;34m)\u001b[0m\u001b[0;34m(\u001b[0m\u001b[0;34m**\u001b[0m\u001b[0mkwargs\u001b[0m\u001b[0;34m)\u001b[0m\u001b[0;34m\u001b[0m\u001b[0;34m\u001b[0m\u001b[0m\n\u001b[0m\u001b[1;32m   3582\u001b[0m             \u001b[0mresult_blocks\u001b[0m \u001b[0;34m=\u001b[0m \u001b[0m_extend_blocks\u001b[0m\u001b[0;34m(\u001b[0m\u001b[0mapplied\u001b[0m\u001b[0;34m,\u001b[0m \u001b[0mresult_blocks\u001b[0m\u001b[0;34m)\u001b[0m\u001b[0;34m\u001b[0m\u001b[0;34m\u001b[0m\u001b[0m\n\u001b[1;32m   3583\u001b[0m \u001b[0;34m\u001b[0m\u001b[0m\n",
      "\u001b[0;32m~/.local/lib/python3.6/site-packages/pandas/core/internals.py\u001b[0m in \u001b[0;36mcopy\u001b[0;34m(self, deep, mgr)\u001b[0m\n\u001b[1;32m    776\u001b[0m         \u001b[0mvalues\u001b[0m \u001b[0;34m=\u001b[0m \u001b[0mself\u001b[0m\u001b[0;34m.\u001b[0m\u001b[0mvalues\u001b[0m\u001b[0;34m\u001b[0m\u001b[0;34m\u001b[0m\u001b[0m\n\u001b[1;32m    777\u001b[0m         \u001b[0;32mif\u001b[0m \u001b[0mdeep\u001b[0m\u001b[0;34m:\u001b[0m\u001b[0;34m\u001b[0m\u001b[0;34m\u001b[0m\u001b[0m\n\u001b[0;32m--> 778\u001b[0;31m             \u001b[0mvalues\u001b[0m \u001b[0;34m=\u001b[0m \u001b[0mvalues\u001b[0m\u001b[0;34m.\u001b[0m\u001b[0mcopy\u001b[0m\u001b[0;34m(\u001b[0m\u001b[0;34m)\u001b[0m\u001b[0;34m\u001b[0m\u001b[0;34m\u001b[0m\u001b[0m\n\u001b[0m\u001b[1;32m    779\u001b[0m         \u001b[0;32mreturn\u001b[0m \u001b[0mself\u001b[0m\u001b[0;34m.\u001b[0m\u001b[0mmake_block_same_class\u001b[0m\u001b[0;34m(\u001b[0m\u001b[0mvalues\u001b[0m\u001b[0;34m)\u001b[0m\u001b[0;34m\u001b[0m\u001b[0;34m\u001b[0m\u001b[0m\n\u001b[1;32m    780\u001b[0m \u001b[0;34m\u001b[0m\u001b[0m\n",
      "\u001b[0;31mMemoryError\u001b[0m: "
     ]
    }
   ],
   "source": [
    "# keep only productive sequences\n",
    "for df in [dfby_exp, dfbx_exp, dfb_gen]:\n",
    "    df[\"isinframe\"] = df.sequence.apply(lambda x:len(str(x))%3 == 0)\n",
    "    df[\"stopcodon\"] = df.amino.apply(lambda x: ('*' in str(x)))\n",
    "\n",
    "dfby_exp_prod = dfby_exp[dfby_exp.isinframe & ~dfby_exp.stopcodon].copy()\n",
    "dfbx_exp_prod = dfbx_exp[dfbx_exp.isinframe & ~dfbx_exp.stopcodon].copy()\n",
    "dfb_gen_prod = dfb_gen[dfb_gen.isinframe & ~dfb_gen.stopcodon].copy()\n",
    "\n",
    "# hash function definition\n",
    "dfb_gen_prod[\"hash\"] = dfb_gen_prod.amino.apply(\n",
    "    lambda x: \n",
    "    int(hashlib.md5(str(x).encode('utf-8')).hexdigest()[:12],16)/int(\"F\"*12,16))\n",
    "\n",
    "# remove sequences duplicates (no way of distinguishing those from identical reads)\n",
    "dfb_gen_prod = dfb_gen_prod.drop_duplicates(subset=[\"sequence\"])\n",
    "dfbx_exp_prod = dfbx_exp_prod.drop_duplicates(subset=[\"sequence\"])\n",
    "dfby_exp_prod = dfby_exp_prod.drop_duplicates(subset=[\"sequence\"])"
   ]
  },
  {
   "cell_type": "code",
   "execution_count": null,
   "metadata": {},
   "outputs": [],
   "source": [
    "qb = 0.037\n",
    "dfb_gen_selected = dfb_gen_prod[dfb_gen_prod.hash <= qb]"
   ]
  },
  {
   "cell_type": "code",
   "execution_count": null,
   "metadata": {},
   "outputs": [],
   "source": [
    "nb_mean = 5\n",
    "samples_b = range(1000, len(dfb_gen_selected), len(dfb_gen_selected)//50) \n",
    "res_gen_b = []\n",
    "for n in samples_b:\n",
    "    res_gen_b.append(np.mean([len(np.unique(dfb_gen_selected.sample(n).amino.values)) for _ in range(nb_mean)]))"
   ]
  },
  {
   "cell_type": "code",
   "execution_count": null,
   "metadata": {},
   "outputs": [],
   "source": [
    "fig, ax = plt.subplots(1,1,figsize=(4.,2.5))\n",
    "sns.set_style(\"white\")\n",
    "ax.plot(samples_b, res_gen_b, color='blue', label=\"Generated, $q=0.037$\")\n",
    "#plt.title(\"Simulation of the number of unique amino-acid for a sample of size N\")\n",
    "ax.scatter([len(dfbx_exp_prod), len(dfby_exp_prod)],\n",
    "         [len(np.unique(dfbx_exp_prod.amino)), len(np.unique(dfby_exp_prod.amino))],\n",
    "         color='red',marker='X', label=\"Experiments\")\n",
    "ax.legend()\n",
    "plt.xlabel(\"# nuc.\")\n",
    "plt.ylabel(\"# a.a.\")\n",
    "ax.ticklabel_format(style='sci', axis='both', scilimits=(0,0))\n",
    "plt.tight_layout()\n",
    "plt.savefig(\"aa_vs_nuc_beta.pdf\")\n",
    "plt.show()"
   ]
  },
  {
   "cell_type": "markdown",
   "metadata": {},
   "source": [
    "## Alpha sequences"
   ]
  },
  {
   "cell_type": "code",
   "execution_count": null,
   "metadata": {},
   "outputs": [],
   "source": [
    "dfax_exp = pd.read_csv(\"../Datas/sharing/exp_gdna_CDR3_alpha_X.tsv.gz\", sep=\"\\t\"\n",
    "                     ,header=None, names=[\"CDR3\", \"sequence\", \"amino\", \"_\", \"__\", \"___\"])\n",
    "dfay_exp = pd.read_csv(\"../Datas/sharing/exp_gdna_CDR3_alpha_Y.tsv.gz\", sep=\"\\t\"\n",
    "                     ,header=None, names=[\"CDR3\", \"sequence\", \"amino\", \"_\", \"__\", \"___\"])\n",
    "\n",
    "# need to be generated first\n",
    "# need roughly 100 000 000 sequences, remove out-of-frame sequences for size (sequences without a CDR3) \n",
    "dfa_gen = pd.read_csv(\"../Datas/sharing/gen_CDR3_alpha_werr_inframe.tsv.gz\", sep=\"\\t\",\n",
    "                     header=None, names=[\"CDR3\", \"sequence\", \"amino\", \"_\", \"__\", \"___\"])\n",
    "\n",
    "\n",
    "dfax_exp = dfax_exp.dropna(subset = ['amino']).copy()\n",
    "dfay_exp = dfay_exp.dropna(subset = ['amino']).copy()\n",
    "dfa_gen = dfa_gen.dropna(subset = ['amino']).copy()"
   ]
  },
  {
   "cell_type": "code",
   "execution_count": null,
   "metadata": {},
   "outputs": [],
   "source": [
    "# keep only productive sequences\n",
    "for df in [dfax_exp, dfay_exp, dfa_gen]:\n",
    "    df[\"isinframe\"] = df.sequence.apply(lambda x:len(str(x))%3 == 0)\n",
    "    df[\"stopcodon\"] = df.amino.apply(lambda x: ('*' in str(x)))\n",
    "dfax_exp_prod = dfax_exp[dfax_exp.isinframe & ~dfax_exp.stopcodon].copy()\n",
    "dfay_exp_prod = dfay_exp[dfay_exp.isinframe & ~dfay_exp.stopcodon].copy()\n",
    "dfa_gen_prod = dfa_gen[dfa_gen.isinframe & ~dfa_gen.stopcodon].copy()\n",
    "\n",
    "# hash function definition\n",
    "dfa_gen_prod[\"hash\"] = dfa_gen_prod.amino.apply(\n",
    "    lambda x: \n",
    "    int(hashlib.md5(str(x).encode('utf-8')).hexdigest()[:12],16)/int(\"F\"*12,16))\n",
    "\n",
    "# remove sequences duplicates (no way of distinguishing those from identical reads)\n",
    "dfa_gen_prod = dfa_gen_prod.drop_duplicates(subset=[\"sequence\"])\n",
    "dfax_exp_prod = dfax_exp_prod.drop_duplicates(subset=[\"sequence\"])\n",
    "dfay_exp_prod = dfay_exp_prod.drop_duplicates(subset=[\"sequence\"])"
   ]
  },
  {
   "cell_type": "code",
   "execution_count": 4,
   "metadata": {},
   "outputs": [],
   "source": [
    "qa = 0.16\n",
    "dfa_gen_selected = dfa_gen_prod[dfa_gen_prod.hash <= qa]"
   ]
  },
  {
   "cell_type": "code",
   "execution_count": 5,
   "metadata": {},
   "outputs": [],
   "source": [
    "nb_mean = 5\n",
    "samples_a = range(1000, len(dfa_gen_selected), len(dfa_gen_selected)//10) \n",
    "res_gen_a = []\n",
    "for n in samples_a:\n",
    "    res_gen_a.append(np.mean([len(np.unique(dfa_gen_selected.sample(n).amino.values)) for _ in range(nb_mean)]))"
   ]
  },
  {
   "cell_type": "code",
   "execution_count": 6,
   "metadata": {},
   "outputs": [
    {
     "data": {
      "image/png": "[encoded data removed]",
      "text/plain": [
       "<Figure size 288x180 with 1 Axes>"
      ]
     },
     "metadata": {},
     "output_type": "display_data"
    }
   ],
   "source": [
    "fig, ax = plt.subplots(1,1,figsize=(4,2.5))\n",
    "ax.plot(samples_a, res_gen_a, color='blue', label=\"Generated, q=0.16\")\n",
    "sns.set_style(\"white\")\n",
    "#ax.set_title(\"Simulation of the number of unique amino-acid for a sample of size N\")\n",
    "ax.scatter([len(dfax_exp_prod),len(dfay_exp_prod)],\n",
    "         [len(np.unique(dfax_exp_prod.amino)),len(np.unique(dfay_exp_prod.amino))],\n",
    "          color='red',marker='X', label=\"Experiments\")\n",
    "ax.legend()\n",
    "ax.ticklabel_format(style='sci', axis='both', scilimits=(0,0))\n",
    "plt.xlabel(\"# nuc.\")\n",
    "plt.ylabel(\"# a.a.\")\n",
    "plt.tight_layout()\n",
    "plt.savefig(\"aa_vs_nuc_alpha.pdf\")\n",
    "plt.show()"
   ]
  },
  {
   "cell_type": "markdown",
   "metadata": {},
   "source": [
    "## Nucleotide sharing estimation"
   ]
  },
  {
   "cell_type": "markdown",
   "metadata": {},
   "source": [
    "We compute then interpolate over generated distributions of the generation's probabilities of $\\alpha-\\beta$ (with both chains supposed independant). \n",
    "\n",
    "This is based on the paper www.arxiv.org/pdf/1803.01056.pdf (see methods)\n",
    "\n",
    "Then we can compute the number $M_k(\\{N_i\\}_{i \\in 1 \\cdots k})$ of shared nucleotide between $k$ individuals, with sample sizes $\\{N_i\\}_{i \\in 1 .. k}$, the generating function of those numbers can be approximated by: \n",
    "$$\n",
    "G(x, \\{N_i\\}) = \\sum_{n=0}^k M_{n}(\\{N_i\\}) x^{n} \\approx \\int_{0}^{\\infty} dE\\  p(E)\\  e^E  \\prod_{i=1}^k \\left[ e^{-N_i e^{-E}} + (1 - e^{-N_i e^{-E}})x\\right]\n",
    "$$"
   ]
  },
  {
   "cell_type": "code",
   "execution_count": 122,
   "metadata": {},
   "outputs": [],
   "source": [
    "# extract generated nucleotides and associated pgen, for alpha and beta\n",
    "df_pgen_beta = pd.read_csv(\"../Datas/sharing/Pgen_counts_beta.csv.gz\", sep=\";\")\n",
    "df_pgen_alpha = pd.read_csv(\"../Datas/sharing/Pgen_counts_alpha.csv.gz\", sep=\";\")\n",
    "pgen_b = df_pgen_beta.Pgen_estimate.values\n",
    "pgen_b = pgen_b[~np.isnan(pgen_b)]\n",
    "pgen_a = df_pgen_alpha.Pgen_estimate.values\n",
    "pgen_a = pgen_a[~np.isnan(pgen_a)]\n",
    "pgen_ab = np.multiply(df_pgen_beta.Pgen_estimate.values, df_pgen_alpha.Pgen_estimate.values)\n",
    "pgen_ab = pgen_ab[~np.isnan(pgen_ab)]"
   ]
  },
  {
   "cell_type": "code",
   "execution_count": 268,
   "metadata": {},
   "outputs": [],
   "source": [
    "def p_gen_distribution(pgen):\n",
    "    sns.distplot(-np.log(pgen), label=\"Raw data\")\n",
    "    plt.title(\"Distribution of the Shannon surprise of the sequences\")\n",
    "    plt.xlabel(\"Shannon surprise\")\n",
    "\n",
    "    Es = -np.log(pgen)\n",
    "    dE = 0.5\n",
    "    bins=np.arange(dE/2, np.max(Es)+dE/2, dE) \n",
    "    hist, _ = np.histogram(Es, bins=np.arange(0, np.max(Es)+dE, dE), density=True)\n",
    "    p = interp1d(bins, hist, fill_value=0., bounds_error=False)\n",
    "    plt.plot(bins, p(bins),label=\"Interpolation\")\n",
    "    plt.legend()\n",
    "    plt.show()\n",
    "    return p"
   ]
  },
  {
   "cell_type": "code",
   "execution_count": 269,
   "metadata": {},
   "outputs": [
    {
     "data": {
      "image/png": "[encoded data removed]",
      "text/plain": [
       "<Figure size 432x288 with 1 Axes>"
      ]
     },
     "metadata": {
      "needs_background": "light"
     },
     "output_type": "display_data"
    },
    {
     "data": {
      "image/png": "[encoded data removed]",
      "text/plain": [
       "<Figure size 432x288 with 1 Axes>"
      ]
     },
     "metadata": {
      "needs_background": "light"
     },
     "output_type": "display_data"
    },
    {
     "data": {
      "image/png": "[encoded data removed]",
      "text/plain": [
       "<Figure size 432x288 with 1 Axes>"
      ]
     },
     "metadata": {
      "needs_background": "light"
     },
     "output_type": "display_data"
    }
   ],
   "source": [
    "pa = p_gen_distribution(pgen_a)\n",
    "pb = p_gen_distribution(pgen_b)\n",
    "pab = p_gen_distribution(pgen_ab)"
   ]
  },
  {
   "cell_type": "markdown",
   "metadata": {},
   "source": [
    "Compute  $M_0(N)$ and $M_m(\\{N\\}_{i \\in 1 \\cdots k})$ (beware : for nucleotides)"
   ]
  },
  {
   "cell_type": "code",
   "execution_count": 375,
   "metadata": {},
   "outputs": [],
   "source": [
    "def M0(N, p, qfs):\n",
    "    return integrate.quad(lambda E: (p(E-np.log(qfs))\n",
    "                          *np.exp(E)*(1-np.exp(-N*np.exp(-E))) \n",
    "                                     if (E < (20 + np.log(N))) \n",
    "                                     else p(E-np.log(qfs))*N), \n",
    "                          0, 100, epsrel=1e-15, limit=100)[0]\n",
    "def M(m, N, k, p, qfs):\n",
    "    return integrate.quad(lambda E: integrandM(E, m, N, k, p, qfs), \n",
    "                          0, 100, epsrel=1e-15, limit=100)[0]\n",
    "\n",
    "def integrandM(E, m, N, k, p, qfs):\n",
    "    u = np.exp(np.log(N) - E)\n",
    "    if E > (10 + np.log(N)): \n",
    "        return (p(E-np.log(qfs))*binom(m,k)\n",
    "                *np.exp(-u*(m-k))*u**(k-1)*N)\n",
    "    else:\n",
    "        return (p(E-np.log(qfs))*binom(m,k)\n",
    "                *np.exp(-u*(m-k))*((1 - np.exp(-u))**k)*N/u)"
   ]
  },
  {
   "cell_type": "code",
   "execution_count": 11,
   "metadata": {
    "scrolled": true
   },
   "outputs": [
    {
     "data": {
      "image/png": "[encoded data removed]",
      "text/plain": [
       "<Figure size 216x288 with 1 Axes>"
      ]
     },
     "metadata": {
      "needs_background": "light"
     },
     "output_type": "display_data"
    }
   ],
   "source": [
    "fig, ax = plt.subplots(1,1,figsize=(3,4))\n",
    "N = 1e6\n",
    "df = pd.DataFrame(columns=[\"nb_shared\", \"proportion\",\"type\"])\n",
    "df[\"type\"] = [r\"$\\alpha$\"]*3+[r\"$\\beta$\"]*3+[r\"$\\alpha-\\beta$\"]*3\n",
    "df[\"nb_shared\"] = list(range(2,5))*3\n",
    "df[\"proportion\"] = ([M(n, N, 10, pa, qfa)/N for n in range(2,5)] +\n",
    "                    [M(n, N, 10, pb, qfb)/N for n in range(2,5)] +\n",
    "                    [M(n, N, 10, pab, qfb * qfa)/N for n in range(2,5)])\n",
    "sns.set_palette(sns.color_palette(\"muted\"))\n",
    "sns.set_style(\"white\")\n",
    "g = sns.barplot(x=\"nb_shared\", y=\"proportion\", hue=\"type\", data=df)\n",
    "g.legend(bbox_to_anchor=(1.02, 1), loc=2, borderaxespad=0.)\n",
    "g.set_ylabel('Proportion')\n",
    "g.set_xlabel('Number of shared sequences')\n",
    "g.set_yscale('log')\n",
    "plt.savefig(\"number_shared_sequences.pdf\")\n",
    "plt.show()"
   ]
  },
  {
   "cell_type": "code",
   "execution_count": 390,
   "metadata": {},
   "outputs": [
    {
     "name": "stdout",
     "output_type": "stream",
     "text": [
      "Number of cells sharing a full TCR predicted 0.0010054160376114462\n",
      "Same, with a x10000 response 9.40810404309636\n"
     ]
    }
   ],
   "source": [
    "# Comparaison with the paper of Grigaityte -- Jiang\n",
    "N = 40000\n",
    "print(\"Number of cells sharing a full TCR predicted\", sum((M(5, N, k, pab, qfb*qfa) for k in range(2,6))))\n",
    "print(\"Same, with a x10000 response\", sum((M(5, N, k, pab, qfb*qfa/10000) for k in range(2,6))))"
   ]
  },
  {
   "cell_type": "code",
   "execution_count": 407,
   "metadata": {},
   "outputs": [
    {
     "name": "stdout",
     "output_type": "stream",
     "text": [
      "0.2048803147130515\n"
     ]
    }
   ],
   "source": [
    "N=1e11\n",
    "print(\"Proportion of sequences shared between two individuals: \",\n",
    "      M(2,N,2,pab, qfa*qfb)/N*100, \"%\")"
   ]
  },
  {
   "cell_type": "markdown",
   "metadata": {},
   "source": [
    "## $\\beta$-$\\alpha$ sharing"
   ]
  },
  {
   "cell_type": "markdown",
   "metadata": {},
   "source": [
    "Generate a *large* file.\n",
    "```{bash}\n",
    "igor -set_wd ../Datas/sharing/ -species human -chain beta -generate 150000000 --CDR3 --noerr\n",
    "mv ../Datas/sharing/generated/generated_seqs_noerr_CDR3_info.csv ../Datas/sharing/generated_betas.csv\n",
    "rm -r ../Datas/sharing/generated\n",
    "```{bash}"
   ]
  },
  {
   "cell_type": "code",
   "execution_count": 16,
   "metadata": {},
   "outputs": [],
   "source": [
    "table = { \n",
    "        'ATA':'I', 'ATC':'I', 'ATT':'I', 'ATG':'M', \n",
    "        'ACA':'T', 'ACC':'T', 'ACG':'T', 'ACT':'T', \n",
    "        'AAC':'N', 'AAT':'N', 'AAA':'K', 'AAG':'K', \n",
    "        'AGC':'S', 'AGT':'S', 'AGA':'R', 'AGG':'R',                  \n",
    "        'CTA':'L', 'CTC':'L', 'CTG':'L', 'CTT':'L', \n",
    "        'CCA':'P', 'CCC':'P', 'CCG':'P', 'CCT':'P', \n",
    "        'CAC':'H', 'CAT':'H', 'CAA':'Q', 'CAG':'Q', \n",
    "        'CGA':'R', 'CGC':'R', 'CGG':'R', 'CGT':'R', \n",
    "        'GTA':'V', 'GTC':'V', 'GTG':'V', 'GTT':'V', \n",
    "        'GCA':'A', 'GCC':'A', 'GCG':'A', 'GCT':'A', \n",
    "        'GAC':'D', 'GAT':'D', 'GAA':'E', 'GAG':'E', \n",
    "        'GGA':'G', 'GGC':'G', 'GGG':'G', 'GGT':'G', \n",
    "        'TCA':'S', 'TCC':'S', 'TCG':'S', 'TCT':'S', \n",
    "        'TTC':'F', 'TTT':'F', 'TTA':'L', 'TTG':'L', \n",
    "        'TAC':'Y', 'TAT':'Y', 'TAA':'_', 'TAG':'_', \n",
    "        'TGC':'C', 'TGT':'C', 'TGA':'_', 'TGG':'W', \n",
    "    } \n",
    "\n",
    "def to_amino(x):\n",
    "    s = \"\"\n",
    "    for i in range(0,len(x),3):\n",
    "        s += table[x[i:i+3]]\n",
    "    return s\n",
    "\n",
    "qb = 0.037\n",
    "filename = \"/home/tautilde/Storage/tmp/generated/generated_seqs_noerr_CDR3_info.csv\"#\"../Datas/sharing/generated_betas.csv\"\n",
    "\n",
    "with open(filename, \"r\") as f:\n",
    "    with open(\"../Datas/sharing/generated_betas_kept.csv\", \"w\") as fw:\n",
    "        fw.write(f.readline().strip() + \",amino,hash\\n\")\n",
    "        for l in f:\n",
    "            # remove non inframe sequences or sequence with a stop codon\n",
    "            if l.strip().split(\",\")[3] != \"0\":\n",
    "                seq = l.strip().split(\",\")[1]\n",
    "                aa = to_amino(seq)\n",
    "                hsh = int(hashlib.md5(str(aa).encode('utf-8')).hexdigest()[:12],16)/int(\"F\"*12,16)\n",
    "                if (\"_\" not in aa):\n",
    "                    fw.write(l.strip() + \",\" + aa + \",\" + str(hsh) + \"\\n\")"
   ]
  },
  {
   "cell_type": "code",
   "execution_count": 99,
   "metadata": {},
   "outputs": [],
   "source": [
    "dfb_gen = pd.read_csv(\"../Datas/sharing/generated_betas_kept.csv\",\n",
    "                      sep=\",\", usecols=[\"nt_CDR3\", \"amino\", \"hash\"], nrows=1000000)\n",
    "\n",
    "table = { \n",
    "        'ATA':'I', 'ATC':'I', 'ATT':'I', 'ATG':'M', \n",
    "        'ACA':'T', 'ACC':'T', 'ACG':'T', 'ACT':'T', \n",
    "        'AAC':'N', 'AAT':'N', 'AAA':'K', 'AAG':'K', \n",
    "        'AGC':'S', 'AGT':'S', 'AGA':'R', 'AGG':'R',                  \n",
    "        'CTA':'L', 'CTC':'L', 'CTG':'L', 'CTT':'L', \n",
    "        'CCA':'P', 'CCC':'P', 'CCG':'P', 'CCT':'P', \n",
    "        'CAC':'H', 'CAT':'H', 'CAA':'Q', 'CAG':'Q', \n",
    "        'CGA':'R', 'CGC':'R', 'CGG':'R', 'CGT':'R', \n",
    "        'GTA':'V', 'GTC':'V', 'GTG':'V', 'GTT':'V', \n",
    "        'GCA':'A', 'GCC':'A', 'GCG':'A', 'GCT':'A', \n",
    "        'GAC':'D', 'GAT':'D', 'GAA':'E', 'GAG':'E', \n",
    "        'GGA':'G', 'GGC':'G', 'GGG':'G', 'GGT':'G', \n",
    "        'TCA':'S', 'TCC':'S', 'TCG':'S', 'TCT':'S', \n",
    "        'TTC':'F', 'TTT':'F', 'TTA':'L', 'TTG':'L', \n",
    "        'TAC':'Y', 'TAT':'Y', 'TAA':'_', 'TAG':'_', \n",
    "        'TGC':'C', 'TGT':'C', 'TGA':'_', 'TGG':'W', \n",
    "    } \n",
    "\n",
    "\n",
    "dfb_gen[\"amino\"] = dfb_gen.nt_CDR3.apply(to_amino)"
   ]
  },
  {
   "cell_type": "code",
   "execution_count": 100,
   "metadata": {},
   "outputs": [
    {
     "name": "stdout",
     "output_type": "stream",
     "text": [
      "0.0019171779141104294\n",
      "36512\n"
     ]
    }
   ],
   "source": [
    "dfb_gen_left = dfb_gen[dfb_gen.hash < 0.037/10.].copy()\n",
    "print(len(dfb_gen_left[dfb_gen_left.nt_CDR3.duplicated()])/len(dfb_gen_left))\n",
    "print(len(dfb_gen_left))"
   ]
  },
  {
   "cell_type": "code",
   "execution_count": 399,
   "metadata": {},
   "outputs": [
    {
     "name": "stdout",
     "output_type": "stream",
     "text": [
      "8.043623660858312e-05\n"
     ]
    }
   ],
   "source": [
    "N = 50000000\n",
    "print(1. - M0(N, pab, 0.037*0.26)/N)"
   ]
  },
  {
   "cell_type": "code",
   "execution_count": 102,
   "metadata": {},
   "outputs": [
    {
     "name": "stdout",
     "output_type": "stream",
     "text": [
      "0.997853\n"
     ]
    }
   ],
   "source": [
    "print(len(np.unique(dfb_gen.nt_CDR3))/len(dfb_gen))"
   ]
  }
 ],
 "metadata": {
  "kernelspec": {
   "display_name": "Python 3",
   "language": "python",
   "name": "python3"
  },
  "language_info": {
   "codemirror_mode": {
    "name": "ipython",
    "version": 3
   },
   "file_extension": ".py",
   "mimetype": "text/x-python",
   "name": "python",
   "nbconvert_exporter": "python",
   "pygments_lexer": "ipython3",
   "version": "3.6.7"
  }
 },
 "nbformat": 4,
 "nbformat_minor": 2
}
