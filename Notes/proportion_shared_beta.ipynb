{
 "cells": [
  {
   "cell_type": "markdown",
   "metadata": {},
   "source": [
    "# Proportion of shared $\\beta$ sequences"
   ]
  },
  {
   "cell_type": "code",
   "execution_count": 1,
   "metadata": {},
   "outputs": [],
   "source": [
    "# Experiment selection : \n",
    "experiment=\"exp3_bis\""
   ]
  },
  {
   "cell_type": "code",
   "execution_count": 2,
   "metadata": {},
   "outputs": [],
   "source": [
    "from __future__ import division, print_function\n",
    "from IPython.display import display, HTML, Math, Latex\n",
    "import pandas as pd\n",
    "import numpy as np\n",
    "import seaborn as sns\n",
    "import matplotlib.pyplot as plt\n",
    "from math import log, sqrt, factorial\n",
    "from scipy import stats, optimize\n",
    "\n",
    "filepairsab = \"../Datas/\"+experiment+\"/pairs_ab.tsv.gz\"\n",
    "filepairsaa = \"../Datas/\"+experiment+\"/pairs_aa.tsv.gz\"\n",
    "filepairsbb = \"../Datas/\"+experiment+\"/pairs_bb.tsv.gz\"\n",
    "filea = \"../Datas/\"+experiment+\"/sequences_alpha.tsv.gz\"\n",
    "fileb = \"../Datas/\"+experiment+\"/sequences_beta.tsv.gz\"\n",
    "filecells = \"../Datas/\" + experiment + \"/cells.tsv.gz\""
   ]
  },
  {
   "cell_type": "code",
   "execution_count": 3,
   "metadata": {},
   "outputs": [
    {
     "name": "stderr",
     "output_type": "stream",
     "text": [
      "/home/tautilde/.local/lib/python3.6/site-packages/IPython/core/interactiveshell.py:3020: DtypeWarning: Columns (21) have mixed types. Specify dtype option on import or set low_memory=False.\n",
      "  interactivity=interactivity, compiler=compiler, result=result)\n"
     ]
    }
   ],
   "source": [
    "dfb = pd.read_csv(fileb, sep=\"\\t\")\n",
    "dfa = pd.read_csv(filea, sep=\"\\t\")\n"
   ]
  },
  {
   "cell_type": "code",
   "execution_count": 4,
   "metadata": {},
   "outputs": [],
   "source": [
    "dfcells = pd.read_csv(filecells, sep=\"\\t\", header=None, names=[\"cells\"])"
   ]
  },
  {
   "cell_type": "code",
   "execution_count": 5,
   "metadata": {},
   "outputs": [],
   "source": [
    "\n",
    "dfb[\"nb_paired_alphas\"] = dfb.paired_alphas.apply(lambda x: (0 if x != x else len(str(x).split(\",\"))))\n",
    "dfb[\"nb_paired_betas\"] = dfb.paired_betas.apply(lambda x: (0 if x != x else len(str(x).split(\",\"))))\n",
    "dfa[\"nb_paired_alphas\"] = dfa.paired_alphas.apply(lambda x: (0 if x != x else len(str(x).split(\",\"))))\n",
    "dfa[\"nb_paired_betas\"] = dfa.paired_betas.apply(lambda x: (0 if x != x else len(str(x).split(\",\"))))"
   ]
  },
  {
   "cell_type": "code",
   "execution_count": 6,
   "metadata": {},
   "outputs": [
    {
     "name": "stdout",
     "output_type": "stream",
     "text": [
      "1    72037\n",
      "2    24107\n",
      "0     2690\n",
      "3     2507\n",
      "4      326\n",
      "5       90\n",
      "6       23\n",
      "7       11\n",
      "8        2\n",
      "Name: nb_paired_alphas, dtype: int64\n",
      "1    116005\n",
      "0     90875\n",
      "2      5933\n",
      "3       471\n",
      "4       105\n",
      "5         7\n",
      "6         3\n",
      "Name: nb_paired_betas, dtype: int64\n",
      "[0.543606108744652, 0.4258454819375911, 0.02780237958003552, 0.0022071331168374733, 0.0004920360451548507, 3.2802403010323385e-05, 1.4058172718710023e-05]\n",
      "[0.7076812747438429, 0.2368237501596377, 0.026426178617390193, 0.024628412562749894, 0.0032025777803974735, 0.0008841472399870325, 0.0002259487391077972, 0.00010806244044285953, 1.9647716444156277e-05]\n"
     ]
    },
    {
     "data": {
      "image/png": "[encoded data removed]",
      "text/plain": [
       "<Figure size 720x432 with 2 Axes>"
      ]
     },
     "metadata": {
      "needs_background": "light"
     },
     "output_type": "display_data"
    }
   ],
   "source": [
    "\n",
    "\n",
    "dfbrestr = dfb[(dfb.nb_paired_alphas >= 1) | (dfb.nb_paired_betas >= 1)]\n",
    "dfarestr = dfa[(dfa.nb_paired_betas >= 1) | (dfb.nb_paired_alphas >= 1)]\n",
    "\n",
    "fig, axes = plt.subplots(ncols=2, figsize=(10,6))\n",
    "ax0, ax1 = axes.flatten()\n",
    "\n",
    "dctb = dfbrestr.nb_paired_alphas.value_counts()\n",
    "dcta = dfarestr.nb_paired_betas.value_counts()\n",
    "\n",
    "print(dctb)\n",
    "print(dcta)\n",
    "\n",
    "print([u/sum(dcta) for u in dcta])\n",
    "print([u/sum(dctb) for u in dctb])\n",
    "\n",
    "tot_b = sum(dctb)\n",
    "tot_a = sum(dcta)\n",
    "rge = range(1,7)\n",
    "ax0.bar(rge, [dctb[u]/tot_b for u in rge])\n",
    "ax1.bar(rge, [dcta[u]/tot_a for u in rge])\n",
    "ax1.set_title(\"Proportion of different betas sequences \\n paired with a given alpha sequence\")\n",
    "ax0.set_title(\"Proportion of different alphas sequences \\n paired with a given beta sequence\")\n",
    "plt.tight_layout()\n",
    "# ax0.set_ylim((0,0.3))\n",
    "# ax1.set_ylim((0,0.3))\n",
    "plt.savefig(\"coactivation_cell_sharing_a_chain_1.pdf\")\n",
    "plt.show()"
   ]
  },
  {
   "cell_type": "code",
   "execution_count": 7,
   "metadata": {},
   "outputs": [],
   "source": [
    "dfcells[\"alpha\"] = dfcells.cells.apply(lambda x: [a for a in x.split(\",\") if a[0] == \"a\"])\n",
    "dfcells[\"beta\"] = dfcells.cells.apply(lambda x: [a for a in x.split(\",\") if a[0] == \"b\"])\n",
    "dfcells[\"nb_alpha\"] = dfcells.cells.apply(lambda x: len([a for a in x.split(\",\") if a[0] == \"a\"]))\n",
    "dfcells[\"nb_beta\"] = dfcells.cells.apply(lambda x: len([a for a in x.split(\",\") if a[0] == \"b\"]))"
   ]
  },
  {
   "cell_type": "code",
   "execution_count": 8,
   "metadata": {},
   "outputs": [
    {
     "data": {
      "text/plain": [
       "0           [b55727, b739]\n",
       "1          [b556280, b769]\n",
       "2         [b414946, b2731]\n",
       "3         [b8510, b109840]\n",
       "4         [b10201, b42626]\n",
       "5        [b313639, b11163]\n",
       "6        [b12093, b661618]\n",
       "7        [b16526, b658407]\n",
       "8        [b20830, b232832]\n",
       "9        [b561209, b26170]\n",
       "10       [b33198, b493657]\n",
       "11        [b42514, b36139]\n",
       "12       [b238825, b42154]\n",
       "13       [b42458, b140306]\n",
       "14       [b42573, b226539]\n",
       "15       [b42613, b670926]\n",
       "16       [b43321, b661660]\n",
       "17       [b49497, b323650]\n",
       "18       [b52518, b635192]\n",
       "19       [b59782, b290930]\n",
       "20       [b610754, b60898]\n",
       "21       [b219023, b62802]\n",
       "22       [b314423, b64344]\n",
       "23       [b66415, b163748]\n",
       "24       [b67784, b163200]\n",
       "25       [b69927, b580801]\n",
       "26       [b554121, b70004]\n",
       "27       [b70527, b288690]\n",
       "28       [b328898, b71074]\n",
       "29       [b73463, b110312]\n",
       "               ...        \n",
       "94393            [b399397]\n",
       "94394    [b672071, b85026]\n",
       "94395            [b404374]\n",
       "94396             [b72570]\n",
       "94397            [b618624]\n",
       "94398             [b11420]\n",
       "94399            [b534411]\n",
       "94400            [b712635]\n",
       "94401             [b77840]\n",
       "94402            [b304404]\n",
       "94403            [b618802]\n",
       "94404            [b222494]\n",
       "94405            [b614420]\n",
       "94406            [b247929]\n",
       "94407            [b179631]\n",
       "94408            [b160437]\n",
       "94409            [b571637]\n",
       "94410            [b119376]\n",
       "94411            [b629356]\n",
       "94412            [b280950]\n",
       "94413            [b617505]\n",
       "94414            [b244424]\n",
       "94415            [b413064]\n",
       "94416            [b585995]\n",
       "94417             [b60111]\n",
       "94418            [b696046]\n",
       "94419            [b198935]\n",
       "94420            [b436235]\n",
       "94421             [b36948]\n",
       "94422            [b335583]\n",
       "Name: beta, Length: 94423, dtype: object"
      ]
     },
     "execution_count": 8,
     "metadata": {},
     "output_type": "execute_result"
    }
   ],
   "source": [
    "dfcells.beta"
   ]
  },
  {
   "cell_type": "code",
   "execution_count": 9,
   "metadata": {},
   "outputs": [
    {
     "name": "stdout",
     "output_type": "stream",
     "text": [
      "[]\n"
     ]
    }
   ],
   "source": [
    "\n",
    "\n",
    "dct = dict()\n",
    "for c in dfcells.beta.values:\n",
    "    for b in c:\n",
    "        if b in dct:\n",
    "            dct[b] += 1\n",
    "        else:\n",
    "            dct[b] = 1\n",
    "print([a for a in dct if dct[a]>= 2])\n"
   ]
  },
  {
   "cell_type": "code",
   "execution_count": 10,
   "metadata": {},
   "outputs": [
    {
     "data": {
      "text/html": [
       "<script>\n",
       "code_show=true; \n",
       "function code_toggle() {\n",
       " if (code_show){\n",
       " $('div.input').hide();\n",
       " } else {\n",
       " $('div.input').show();\n",
       " }\n",
       " code_show = !code_show\n",
       "} \n",
       "$( document ).ready(code_toggle);\n",
       "</script>\n",
       "The raw code for this IPython notebook is by default hidden for easier reading.\n",
       "To toggle on/off the raw code, click <a href=\"javascript:code_toggle()\">here</a>."
      ],
      "text/plain": [
       "<IPython.core.display.HTML object>"
      ]
     },
     "execution_count": 10,
     "metadata": {},
     "output_type": "execute_result"
    }
   ],
   "source": [
    "HTML('''<script>\n",
    "code_show=true; \n",
    "function code_toggle() {\n",
    " if (code_show){\n",
    " $('div.input').hide();\n",
    " } else {\n",
    " $('div.input').show();\n",
    " }\n",
    " code_show = !code_show\n",
    "} \n",
    "$( document ).ready(code_toggle);\n",
    "</script>\n",
    "The raw code for this IPython notebook is by default hidden for easier reading.\n",
    "To toggle on/off the raw code, click <a href=\"javascript:code_toggle()\">here</a>.''')"
   ]
  },
  {
   "cell_type": "code",
   "execution_count": null,
   "metadata": {
    "collapsed": true
   },
   "outputs": [],
   "source": []
  }
 ],
 "metadata": {
  "kernelspec": {
   "display_name": "Python 3",
   "language": "python",
   "name": "python3"
  },
  "language_info": {
   "codemirror_mode": {
    "name": "ipython",
    "version": 3
   },
   "file_extension": ".py",
   "mimetype": "text/x-python",
   "name": "python",
   "nbconvert_exporter": "python",
   "pygments_lexer": "ipython3",
   "version": "3.6.7"
  }
 },
 "nbformat": 4,
 "nbformat_minor": 2
}
