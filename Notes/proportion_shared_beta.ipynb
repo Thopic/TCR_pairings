{
 "cells": [
  {
   "cell_type": "markdown",
   "metadata": {},
   "source": [
    "# Proportion of shared $\\beta$ sequences"
   ]
  },
  {
   "cell_type": "markdown",
   "metadata": {},
   "source": [
    "The two files \"../Datas/exp3/sequences_alpha.tsv.gz\" et \"../Datas/exp3/sequences_beta.tsv.gz\" are too big to be included in the dropbox. We give \"smaller versions\", which only contains the subset of alpha and beta paired with more than twice different sequence. To obtain the complete figure, the full code should be run, with the dataset of the Howie paper, to generate these two files."
   ]
  },
  {
   "cell_type": "code",
   "execution_count": 1,
   "metadata": {},
   "outputs": [],
   "source": [
    "# Experiment selection : \n",
    "experiment=\"exp3\""
   ]
  },
  {
   "cell_type": "code",
   "execution_count": 14,
   "metadata": {},
   "outputs": [],
   "source": [
    "from __future__ import division, print_function\n",
    "from IPython.display import display, HTML, Math, Latex\n",
    "import pandas as pd\n",
    "import numpy as np\n",
    "import seaborn as sns\n",
    "import matplotlib.pyplot as plt\n",
    "from math import log, sqrt, factorial\n",
    "from scipy import stats, optimize\n",
    "\n",
    "filepairsab = \"../Datas/\"+experiment+\"/pairs_ab.tsv.gz\"\n",
    "filepairsaa = \"../Datas/\"+experiment+\"/pairs_aa.tsv.gz\"\n",
    "filepairsbb = \"../Datas/\"+experiment+\"/pairs_bb.tsv.gz\"\n",
    "\n",
    "# WARNING: only load alpha (resp. beta) sequences with at least \n",
    "# two beta paired (resp. alpha) (for space reasons)\n",
    "# can be replaced by sequences_alpha.tsv.gz (resp. sequence_beta.tsv.gz)\n",
    "# if the full code has been ran. \n",
    "\n",
    "filea = \"../Datas/\"+experiment+\"/sequences_alpha.tsv.gz\" \n",
    "fileb = \"../Datas/\"+experiment+\"/sequences_beta.tsv.gz\" \n",
    "\n",
    "## remove if the full files were generated\n",
    "filea = \"../Datas/\"+experiment+\"/sequences_alpha_2b.tsv.gz\" \n",
    "fileb = \"../Datas/\"+experiment+\"/sequences_beta_2a.tsv.gz\" "
   ]
  },
  {
   "cell_type": "code",
   "execution_count": 15,
   "metadata": {},
   "outputs": [
    {
     "name": "stdout",
     "output_type": "stream",
     "text": [
      "1585019 726801\n"
     ]
    }
   ],
   "source": [
    "dfb = pd.read_csv(fileb, sep=\"\\t\")\n",
    "dfa = pd.read_csv(filea, sep=\"\\t\")\n",
    "print(len(dfa), len(dfb))\n",
    "Na = 1585019 # can be replaced by len(dfa)\n",
    "Nb = 726801  # can be replaced by len(dfb)"
   ]
  },
  {
   "cell_type": "code",
   "execution_count": 16,
   "metadata": {},
   "outputs": [],
   "source": [
    "dfb[\"nb_paired_alphas\"] = dfb.paired_alphas.apply(lambda x: (0 if x != x else len(str(x).split(\",\"))))\n",
    "dfb[\"nb_paired_betas\"] = dfb.paired_betas.apply(lambda x: (0 if x != x else len(str(x).split(\",\"))))\n",
    "dfa[\"nb_paired_alphas\"] = dfa.paired_alphas.apply(lambda x: (0 if x != x else len(str(x).split(\",\"))))\n",
    "dfa[\"nb_paired_betas\"] = dfa.paired_betas.apply(lambda x: (0 if x != x else len(str(x).split(\",\"))))"
   ]
  },
  {
   "cell_type": "code",
   "execution_count": 17,
   "metadata": {},
   "outputs": [
    {
     "data": {
      "image/png": "[encoded data removed]",
      "text/plain": [
       "<Figure size 720x432 with 2 Axes>"
      ]
     },
     "metadata": {
      "needs_background": "light"
     },
     "output_type": "display_data"
    }
   ],
   "source": [
    "dfbrestr = dfb[(dfb.nb_paired_alphas >= 1) | (dfb.nb_paired_betas >= 1)]\n",
    "dfarestr = dfa[(dfa.nb_paired_betas >= 1) | (dfb.nb_paired_alphas >= 1)]\n",
    "\n",
    "fig, axes = plt.subplots(ncols=2, figsize=(10,6))\n",
    "ax0, ax1 = axes.flatten()\n",
    "\n",
    "dctb = dfbrestr.nb_paired_alphas.value_counts()\n",
    "dcta = dfarestr.nb_paired_betas.value_counts()\n",
    "\n",
    "tot_b = sum(dctb)\n",
    "tot_a = sum(dcta)\n",
    "rge = range(1,7)\n",
    "ax0.bar(rge, [dctb[u]/Na for u in rge])\n",
    "ax1.bar(rge, [dcta[u]/tot_a for u in rge])\n",
    "ax1.set_title(\"Proportion of different betas sequences \\n paired with a given alpha sequence\")\n",
    "ax0.set_title(\"Proportion of different alphas sequences \\n paired with a given beta sequence\")\n",
    "plt.tight_layout()\n",
    "# ax0.set_ylim((0,0.3))\n",
    "# ax1.set_ylim((0,0.3))\n",
    "plt.savefig(\"coactivation_cell_sharing_a_chain_1.pdf\")\n",
    "plt.show()"
   ]
  },
  {
   "cell_type": "code",
   "execution_count": null,
   "metadata": {},
   "outputs": [],
   "source": []
  }
 ],
 "metadata": {
  "kernelspec": {
   "display_name": "Python 3",
   "language": "python",
   "name": "python3"
  },
  "language_info": {
   "codemirror_mode": {
    "name": "ipython",
    "version": 3
   },
   "file_extension": ".py",
   "mimetype": "text/x-python",
   "name": "python",
   "nbconvert_exporter": "python",
   "pygments_lexer": "ipython3",
   "version": "3.6.7"
  }
 },
 "nbformat": 4,
 "nbformat_minor": 2
}
