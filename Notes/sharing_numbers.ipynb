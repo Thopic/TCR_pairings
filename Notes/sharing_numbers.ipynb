{
 "cells": [
  {
   "cell_type": "markdown",
   "metadata": {},
   "source": [
    "# Sharing numbers analysis"
   ]
  },
  {
   "cell_type": "code",
   "execution_count": 17,
   "metadata": {},
   "outputs": [],
   "source": [
    "from __future__ import division, print_function\n",
    "from IPython.display import display, HTML\n",
    "import pandas as pd\n",
    "import hashlib\n",
    "import numpy as np\n",
    "from math import log, exp, log10\n",
    "import seaborn as sns\n",
    "from scipy.optimize import minimize\n",
    "import scipy.integrate as integrate\n",
    "import matplotlib.pyplot as plt\n",
    "from Bio.Seq import translate \n",
    "from IPython.display import display, Math, Latex"
   ]
  },
  {
   "cell_type": "markdown",
   "metadata": {},
   "source": [
    "For a given sequence $s$, $E(s) = -\\log(p(s))$ is the Shannon surprise of generating a sequence $s$ at random. \n",
    "\n",
    "$g_{gen}(E)\\  dE$ is the number of generated sequences whose surprise is between $E$ and $E + dE$. \n",
    "\n",
    "The density of states of the observed sequences will be written:\n",
    "$$\n",
    "    g(E) = g_{gen}\\left(E - ln\\left(\\,f\\,q\\,\\right)\\right) \\times f\\,q\n",
    "$$\n",
    "\n",
    "Where $f$ is the proportion of functional sequences, in-frame, no stop codons or pseudogenes (for $\\beta$, $0.236$ for humans), and $q$ is the selection factor that will be inferred from our data."
   ]
  },
  {
   "cell_type": "markdown",
   "metadata": {},
   "source": [
    "IGoR commands:\n",
    "```bash\n",
    "N=10000000\n",
    "CMD='./path/to/igor -set_wd \"../Datas/IGoR_gen/\" -batch beta'\n",
    "$CMD -species human -chain beta -generate $N\n",
    "$CMD -read_seqs \"../Datas/IGoR_gen/beta_generated/generated_seqs_werr.csv\"\n",
    "$CMD -species human -chain beta -align --all\n",
    "$CMD -species human -chain beta -evaluate -output --Pgen\n",
    "\n",
    "CMD='./path/to/igor -set_wd \"../Datas/IGoR_gen/\" -batch alpha'\n",
    "$CMD -species human -chain alpha -generate $N\n",
    "$CMD -read_seqs \"../Datas/IGoR_gen/alpha_generated/generated_seqs_werr.csv\"\n",
    "$CMD -species human -chain alpha -align --all\n",
    "$CMD -species human -chain alpha -evaluate -output --Pgen\n",
    "```"
   ]
  },
  {
   "cell_type": "markdown",
   "metadata": {},
   "source": [
    "# Sharing"
   ]
  },
  {
   "cell_type": "code",
   "execution_count": 52,
   "metadata": {},
   "outputs": [],
   "source": [
    "def visualising_q(df_exp, df_gen, q):\n",
    "    df_exp = df_exp.dropna(subset = ['amino']).copy()\n",
    "    df_gen = df_gen.dropna(subset = ['amino']).copy()\n",
    "    df_exp[\"isinframe\"] = df_exp.sequence.apply(lambda x:len(str(x))%3 == 0)\n",
    "    df_exp[\"stopcodon\"] = df_exp.amino.apply(lambda x: ('*' in str(x)))\n",
    "    df_gen[\"isinframe\"] = df_gen.sequence.apply(lambda x:len(str(x))%3 == 0)\n",
    "    df_gen[\"stopcodon\"] = df_gen.amino.apply(lambda x: ('*' in str(x)))\n",
    "    df_exp_prod = df_exp[df_exp.isinframe & ~df_exp.stopcodon].copy()\n",
    "    df_gen_prod = df_gen[df_gen.isinframe & ~df_gen.stopcodon].copy()\n",
    "    \n",
    "    df_gen_prod[\"hash\"] = df_gen_prod.amino.apply(\n",
    "        lambda x: \n",
    "        int(hashlib.md5(str(x).encode('utf-8')).hexdigest()[:12],16)/int(\"F\"*12,16))\n",
    "    df_gen_post_selection = df_gen_prod[df_gen_prod.hash <= q]\n",
    "#     print(\"Should be identical, else the hash is badly chosen:\", len(set(df_gen_prod.hash)), len(set(df_gen_prod.amino)))\n",
    "#     sns.distplot(df_gen_prod.hash,kde=False, norm_hist=True)\n",
    "#     plt.title(\"Distribution of the hash between 0 and 1, should be flat\")\n",
    "#     plt.show()\n",
    "    \n",
    "    \n",
    "    nb_mean = 5\n",
    "    maxsize = min(len(df_gen_post_selection), len(df_exp_prod))\n",
    "    size_samples = range(1000, maxsize, maxsize//10)\n",
    "    \n",
    "    print(\"Ratio of unique sequence on the total number of generated sequences\")\n",
    "    print(len(np.unique(df_gen.sequence))/len(df_gen))\n",
    "    nb_unique_aa = []\n",
    "    nb_unique_nuc = []\n",
    "    nb_unique_aa_sim = []\n",
    "    nb_unique_nuc_sim = []\n",
    "    for size_sample in size_samples:\n",
    "        tot = nt = tot_th = nt_th = 0\n",
    "        for i in range(nb_mean):\n",
    "            df_exp_sampled = df_exp_prod.sample(size_sample)\n",
    "            df_gen_sampled = df_gen_post_selection.sample(size_sample)         \n",
    "            tot += len(np.unique(df_exp_sampled.amino))\n",
    "            tot_th += len(np.unique(df_gen_sampled.amino))\n",
    "            nt += len(np.unique(df_exp_sampled.sequence))\n",
    "            nt_th += len(np.unique(df_gen_sampled.sequence))\n",
    "        nb_unique_aa.append(tot/nb_mean)\n",
    "        nb_unique_nuc.append(nt/nb_mean)\n",
    "        nb_unique_aa_sim.append(tot_th/nb_mean)\n",
    "        nb_unique_nuc_sim.append(nt_th/nb_mean)\n",
    "            \n",
    "    #plt.plot(nb_unique_nuc, nb_unique_nuc, color='blue', linestyle=':')\n",
    "    plt.plot(nb_unique_nuc_sim, nb_unique_aa_sim, color='red', linestyle=':')\n",
    "    plt.plot(nb_unique_nuc, nb_unique_aa, color='green', linestyle=':')\n",
    "    plt.show()\n"
   ]
  },
  {
   "cell_type": "code",
   "execution_count": 19,
   "metadata": {},
   "outputs": [],
   "source": [
    "df_exp_beta = pd.read_csv(\"../Datas/sharing/exp_gdna_CDR3_beta_X.tsv.gz\", sep=\"\\t\"\n",
    "                     ,header=None, names=[\"CDR3\", \"sequence\", \"amino\", \"___\", \"____\", \"_____\"])\n",
    "df_gen_beta = pd.read_csv(\"../Datas/sharing/gen_CDR3_beta_werr_inframe.tsv.gz\", sep=\"\\t\",\n",
    "                     header=None, names=[\"CDR3\", \"sequence\", \"amino\", \"___\", \"____\", \"_____\"])\n",
    "df_exp_alpha = pd.read_csv(\"../Datas/sharing/exp_gdna_CDR3_alpha_X.tsv.gz\", sep=\"\\t\"\n",
    "                     ,header=None, names=[\"CDR3\", \"sequence\", \"amino\", \"___\", \"____\", \"_____\"])\n",
    "df_gen_alpha = pd.read_csv(\"../Datas/sharing/gen_CDR3_alpha_werr.tsv.gz\", sep=\"\\t\",\n",
    "                     header=None, names=[\"CDR3\", \"sequence\", \"amino\", \"___\", \"____\", \"_____\"])"
   ]
  },
  {
   "cell_type": "code",
   "execution_count": 53,
   "metadata": {},
   "outputs": [
    {
     "name": "stdout",
     "output_type": "stream",
     "text": [
      "Ratio of unique sequence on the total number of generated sequences\n",
      "0.8348639980027055\n"
     ]
    },
    {
     "data": {
      "image/png": "[encoded data removed]",
      "text/plain": [
       "<Figure size 432x288 with 1 Axes>"
      ]
     },
     "metadata": {},
     "output_type": "display_data"
    }
   ],
   "source": [
    "visualising_q(df_exp_alpha, df_gen_alpha, 0.6)"
   ]
  },
  {
   "cell_type": "code",
   "execution_count": 54,
   "metadata": {},
   "outputs": [
    {
     "name": "stdout",
     "output_type": "stream",
     "text": [
      "Ratio of unique sequence on the total number of generated sequences\n",
      "0.975191303581346\n"
     ]
    },
    {
     "data": {
      "image/png": "[encoded data removed]",
      "text/plain": [
       "<Figure size 432x288 with 1 Axes>"
      ]
     },
     "metadata": {},
     "output_type": "display_data"
    }
   ],
   "source": [
    "visualising_q(df_exp_beta, df_gen_beta, 0.1)"
   ]
  },
  {
   "cell_type": "code",
   "execution_count": 66,
   "metadata": {},
   "outputs": [],
   "source": [
    "def estimating_q(df_exp, df_gen):\n",
    "    df_exp[\"isinframe\"] = df_exp.sequence.apply(lambda x:len(str(x))%3 == 0)\n",
    "    df_exp[\"stopcodon\"] = df_exp.amino.apply(lambda x: ('*' in str(x)))\n",
    "    df_gen[\"isinframe\"] = df_gen.sequence.apply(lambda x:len(str(x))%3 == 0)\n",
    "    df_gen[\"stopcodon\"] = df_gen.amino.apply(lambda x: ('*' in str(x)))\n",
    "    df_exp_prod = df_exp[df_exp.isinframe & ~df_exp.stopcodon].copy()\n",
    "    df_gen_prod = df_gen[df_gen.isinframe & ~df_gen.stopcodon].copy()\n",
    "    \n",
    "    df_gen_prod[\"hash\"] = df_gen_prod.amino.apply(\n",
    "        lambda x: \n",
    "        int(hashlib.md5(str(x).encode('utf-8')).hexdigest()[:12],16)/int(\"F\"*12,16))\n",
    "\n",
    "    df_gen.drop_duplicates(subset=[\"sequence\"])\n",
    "    df_exp.drop_duplicates(subset=[\"sequence\"])\n",
    "        \n",
    "        \n",
    "    maxsize = max(len(df_gen_prod), len(df_exp_prod))\n",
    "    q0 = 0.3\n",
    "    \n",
    "#     errs = []\n",
    "#     for q in np.arange(0.3, 0.9, 0.1):\n",
    "#         errs.append(error(q, (int(maxsize*0.1)), df_exp_prod, df_gen_prod, 5))\n",
    "    \n",
    "#     plt.plot(np.arange(0.1, 0.9, 0.1), errs)\n",
    "#     plt.show()\n",
    "#     print(\"Minimization start:\")\n",
    "#     res = minimize(error, q0, (int(maxsize*0.01), df_exp_prod, df_gen_prod, 4), bounds=((0.01,0.8),)) \n",
    "#     q = res.x\n",
    "#     print(q)\n",
    "        \n",
    "    for q in np.arange(0.1,0.9,0.1):\n",
    "        nb_mean = 5\n",
    "        result_exp = []\n",
    "        result_gen = []\n",
    "        df_gen_post_selection = df_gen_prod[(df_gen_prod.hash <= float(q))]\n",
    "        size_samples = range(1000, int(maxsize*q)-int(maxsize*q)//10, int(maxsize*q)//10)\n",
    "        for n in size_samples:\n",
    "            aa_exp = aa_gen = 0\n",
    "            for i in range(nb_mean):\n",
    "                df_exp_sampled = df_exp_prod.sample(n, replace=True)\n",
    "                df_gen_sampled = df_gen_post_selection.sample(n, replace=True)\n",
    "                aa_gen += len(np.unique(df_gen_sampled.amino))\n",
    "                aa_exp += len(np.unique(df_exp_sampled.amino))\n",
    "            result_exp.append(aa_exp/nb_mean)\n",
    "            result_gen.append(aa_gen/nb_mean)\n",
    "        plt.plot(size_samples, result_exp, color='red', linestyle=':', lable=str(q))\n",
    "    plt.plot(size_samples, result_gen, color='green', linestyle=':', label=\"exp\")\n",
    "    plt.legend()\n",
    "    plt.show()\n",
    "    \n",
    "def error(q, n, dfe, dfg, nb_mean):\n",
    "    aa_gen = aa_exp = 0\n",
    "    dfg_ps = dfg[dfg.hash <= q]\n",
    "    for i in range(nb_mean):\n",
    "        dfe_sampled = dfe.sample(n)\n",
    "        dfg_sampled = dfg_ps.sample(n)\n",
    "        aa_gen += len(np.unique(dfg_sampled.amino))\n",
    "        aa_exp += len(np.unique(dfe_sampled.amino))\n",
    "    return (aa_gen/nb_mean - aa_exp/nb_mean)**2"
   ]
  },
  {
   "cell_type": "code",
   "execution_count": 67,
   "metadata": {},
   "outputs": [
    {
     "ename": "MemoryError",
     "evalue": "",
     "output_type": "error",
     "traceback": [
      "\u001b[0;31m---------------------------------------------------------------------------\u001b[0m",
      "\u001b[0;31mMemoryError\u001b[0m                               Traceback (most recent call last)",
      "\u001b[0;32m<ipython-input-67-f427312ed449>\u001b[0m in \u001b[0;36m<module>\u001b[0;34m\u001b[0m\n\u001b[0;32m----> 1\u001b[0;31m \u001b[0mestimating_q\u001b[0m\u001b[0;34m(\u001b[0m\u001b[0mdf_exp_beta\u001b[0m\u001b[0;34m,\u001b[0m \u001b[0mdf_gen_beta\u001b[0m\u001b[0;34m)\u001b[0m\u001b[0;34m\u001b[0m\u001b[0m\n\u001b[0m",
      "\u001b[0;32m<ipython-input-66-03710b637596>\u001b[0m in \u001b[0;36mestimating_q\u001b[0;34m(df_exp, df_gen)\u001b[0m\n\u001b[1;32m     11\u001b[0m         int(hashlib.md5(str(x).encode('utf-8')).hexdigest()[:12],16)/int(\"F\"*12,16))\n\u001b[1;32m     12\u001b[0m \u001b[0;34m\u001b[0m\u001b[0m\n\u001b[0;32m---> 13\u001b[0;31m     \u001b[0mdf_gen\u001b[0m\u001b[0;34m.\u001b[0m\u001b[0mdrop_duplicates\u001b[0m\u001b[0;34m(\u001b[0m\u001b[0msubset\u001b[0m\u001b[0;34m=\u001b[0m\u001b[0;34m[\u001b[0m\u001b[0;34m\"sequence\"\u001b[0m\u001b[0;34m]\u001b[0m\u001b[0;34m)\u001b[0m\u001b[0;34m\u001b[0m\u001b[0m\n\u001b[0m\u001b[1;32m     14\u001b[0m     \u001b[0mdf_exp\u001b[0m\u001b[0;34m.\u001b[0m\u001b[0mdrop_duplicates\u001b[0m\u001b[0;34m(\u001b[0m\u001b[0msubset\u001b[0m\u001b[0;34m=\u001b[0m\u001b[0;34m[\u001b[0m\u001b[0;34m\"sequence\"\u001b[0m\u001b[0;34m]\u001b[0m\u001b[0;34m)\u001b[0m\u001b[0;34m\u001b[0m\u001b[0m\n\u001b[1;32m     15\u001b[0m \u001b[0;34m\u001b[0m\u001b[0m\n",
      "\u001b[0;32m~/.local/lib/python3.6/site-packages/pandas/core/frame.py\u001b[0m in \u001b[0;36mdrop_duplicates\u001b[0;34m(self, subset, keep, inplace)\u001b[0m\n\u001b[1;32m   4336\u001b[0m             \u001b[0mself\u001b[0m\u001b[0;34m.\u001b[0m\u001b[0m_update_inplace\u001b[0m\u001b[0;34m(\u001b[0m\u001b[0mnew_data\u001b[0m\u001b[0;34m)\u001b[0m\u001b[0;34m\u001b[0m\u001b[0m\n\u001b[1;32m   4337\u001b[0m         \u001b[0;32melse\u001b[0m\u001b[0;34m:\u001b[0m\u001b[0;34m\u001b[0m\u001b[0m\n\u001b[0;32m-> 4338\u001b[0;31m             \u001b[0;32mreturn\u001b[0m \u001b[0mself\u001b[0m\u001b[0;34m[\u001b[0m\u001b[0;34m-\u001b[0m\u001b[0mduplicated\u001b[0m\u001b[0;34m]\u001b[0m\u001b[0;34m\u001b[0m\u001b[0m\n\u001b[0m\u001b[1;32m   4339\u001b[0m \u001b[0;34m\u001b[0m\u001b[0m\n\u001b[1;32m   4340\u001b[0m     \u001b[0;32mdef\u001b[0m \u001b[0mduplicated\u001b[0m\u001b[0;34m(\u001b[0m\u001b[0mself\u001b[0m\u001b[0;34m,\u001b[0m \u001b[0msubset\u001b[0m\u001b[0;34m=\u001b[0m\u001b[0;32mNone\u001b[0m\u001b[0;34m,\u001b[0m \u001b[0mkeep\u001b[0m\u001b[0;34m=\u001b[0m\u001b[0;34m'first'\u001b[0m\u001b[0;34m)\u001b[0m\u001b[0;34m:\u001b[0m\u001b[0;34m\u001b[0m\u001b[0m\n",
      "\u001b[0;32m~/.local/lib/python3.6/site-packages/pandas/core/frame.py\u001b[0m in \u001b[0;36m__getitem__\u001b[0;34m(self, key)\u001b[0m\n\u001b[1;32m   2680\u001b[0m         \u001b[0;32mif\u001b[0m \u001b[0misinstance\u001b[0m\u001b[0;34m(\u001b[0m\u001b[0mkey\u001b[0m\u001b[0;34m,\u001b[0m \u001b[0;34m(\u001b[0m\u001b[0mSeries\u001b[0m\u001b[0;34m,\u001b[0m \u001b[0mnp\u001b[0m\u001b[0;34m.\u001b[0m\u001b[0mndarray\u001b[0m\u001b[0;34m,\u001b[0m \u001b[0mIndex\u001b[0m\u001b[0;34m,\u001b[0m \u001b[0mlist\u001b[0m\u001b[0;34m)\u001b[0m\u001b[0;34m)\u001b[0m\u001b[0;34m:\u001b[0m\u001b[0;34m\u001b[0m\u001b[0m\n\u001b[1;32m   2681\u001b[0m             \u001b[0;31m# either boolean or fancy integer index\u001b[0m\u001b[0;34m\u001b[0m\u001b[0;34m\u001b[0m\u001b[0m\n\u001b[0;32m-> 2682\u001b[0;31m             \u001b[0;32mreturn\u001b[0m \u001b[0mself\u001b[0m\u001b[0;34m.\u001b[0m\u001b[0m_getitem_array\u001b[0m\u001b[0;34m(\u001b[0m\u001b[0mkey\u001b[0m\u001b[0;34m)\u001b[0m\u001b[0;34m\u001b[0m\u001b[0m\n\u001b[0m\u001b[1;32m   2683\u001b[0m         \u001b[0;32melif\u001b[0m \u001b[0misinstance\u001b[0m\u001b[0;34m(\u001b[0m\u001b[0mkey\u001b[0m\u001b[0;34m,\u001b[0m \u001b[0mDataFrame\u001b[0m\u001b[0;34m)\u001b[0m\u001b[0;34m:\u001b[0m\u001b[0;34m\u001b[0m\u001b[0m\n\u001b[1;32m   2684\u001b[0m             \u001b[0;32mreturn\u001b[0m \u001b[0mself\u001b[0m\u001b[0;34m.\u001b[0m\u001b[0m_getitem_frame\u001b[0m\u001b[0;34m(\u001b[0m\u001b[0mkey\u001b[0m\u001b[0;34m)\u001b[0m\u001b[0;34m\u001b[0m\u001b[0m\n",
      "\u001b[0;32m~/.local/lib/python3.6/site-packages/pandas/core/frame.py\u001b[0m in \u001b[0;36m_getitem_array\u001b[0;34m(self, key)\u001b[0m\n\u001b[1;32m   2722\u001b[0m             \u001b[0mkey\u001b[0m \u001b[0;34m=\u001b[0m \u001b[0mcheck_bool_indexer\u001b[0m\u001b[0;34m(\u001b[0m\u001b[0mself\u001b[0m\u001b[0;34m.\u001b[0m\u001b[0mindex\u001b[0m\u001b[0;34m,\u001b[0m \u001b[0mkey\u001b[0m\u001b[0;34m)\u001b[0m\u001b[0;34m\u001b[0m\u001b[0m\n\u001b[1;32m   2723\u001b[0m             \u001b[0mindexer\u001b[0m \u001b[0;34m=\u001b[0m \u001b[0mkey\u001b[0m\u001b[0;34m.\u001b[0m\u001b[0mnonzero\u001b[0m\u001b[0;34m(\u001b[0m\u001b[0;34m)\u001b[0m\u001b[0;34m[\u001b[0m\u001b[0;36m0\u001b[0m\u001b[0;34m]\u001b[0m\u001b[0;34m\u001b[0m\u001b[0m\n\u001b[0;32m-> 2724\u001b[0;31m             \u001b[0;32mreturn\u001b[0m \u001b[0mself\u001b[0m\u001b[0;34m.\u001b[0m\u001b[0m_take\u001b[0m\u001b[0;34m(\u001b[0m\u001b[0mindexer\u001b[0m\u001b[0;34m,\u001b[0m \u001b[0maxis\u001b[0m\u001b[0;34m=\u001b[0m\u001b[0;36m0\u001b[0m\u001b[0;34m)\u001b[0m\u001b[0;34m\u001b[0m\u001b[0m\n\u001b[0m\u001b[1;32m   2725\u001b[0m         \u001b[0;32melse\u001b[0m\u001b[0;34m:\u001b[0m\u001b[0;34m\u001b[0m\u001b[0m\n\u001b[1;32m   2726\u001b[0m             \u001b[0mindexer\u001b[0m \u001b[0;34m=\u001b[0m \u001b[0mself\u001b[0m\u001b[0;34m.\u001b[0m\u001b[0mloc\u001b[0m\u001b[0;34m.\u001b[0m\u001b[0m_convert_to_indexer\u001b[0m\u001b[0;34m(\u001b[0m\u001b[0mkey\u001b[0m\u001b[0;34m,\u001b[0m \u001b[0maxis\u001b[0m\u001b[0;34m=\u001b[0m\u001b[0;36m1\u001b[0m\u001b[0;34m)\u001b[0m\u001b[0;34m\u001b[0m\u001b[0m\n",
      "\u001b[0;32m~/.local/lib/python3.6/site-packages/pandas/core/generic.py\u001b[0m in \u001b[0;36m_take\u001b[0;34m(self, indices, axis, is_copy)\u001b[0m\n\u001b[1;32m   2787\u001b[0m         new_data = self._data.take(indices,\n\u001b[1;32m   2788\u001b[0m                                    \u001b[0maxis\u001b[0m\u001b[0;34m=\u001b[0m\u001b[0mself\u001b[0m\u001b[0;34m.\u001b[0m\u001b[0m_get_block_manager_axis\u001b[0m\u001b[0;34m(\u001b[0m\u001b[0maxis\u001b[0m\u001b[0;34m)\u001b[0m\u001b[0;34m,\u001b[0m\u001b[0;34m\u001b[0m\u001b[0m\n\u001b[0;32m-> 2789\u001b[0;31m                                    verify=True)\n\u001b[0m\u001b[1;32m   2790\u001b[0m         \u001b[0mresult\u001b[0m \u001b[0;34m=\u001b[0m \u001b[0mself\u001b[0m\u001b[0;34m.\u001b[0m\u001b[0m_constructor\u001b[0m\u001b[0;34m(\u001b[0m\u001b[0mnew_data\u001b[0m\u001b[0;34m)\u001b[0m\u001b[0;34m.\u001b[0m\u001b[0m__finalize__\u001b[0m\u001b[0;34m(\u001b[0m\u001b[0mself\u001b[0m\u001b[0;34m)\u001b[0m\u001b[0;34m\u001b[0m\u001b[0m\n\u001b[1;32m   2791\u001b[0m \u001b[0;34m\u001b[0m\u001b[0m\n",
      "\u001b[0;32m~/.local/lib/python3.6/site-packages/pandas/core/internals.py\u001b[0m in \u001b[0;36mtake\u001b[0;34m(self, indexer, axis, verify, convert)\u001b[0m\n\u001b[1;32m   4537\u001b[0m         \u001b[0mnew_labels\u001b[0m \u001b[0;34m=\u001b[0m \u001b[0mself\u001b[0m\u001b[0;34m.\u001b[0m\u001b[0maxes\u001b[0m\u001b[0;34m[\u001b[0m\u001b[0maxis\u001b[0m\u001b[0;34m]\u001b[0m\u001b[0;34m.\u001b[0m\u001b[0mtake\u001b[0m\u001b[0;34m(\u001b[0m\u001b[0mindexer\u001b[0m\u001b[0;34m)\u001b[0m\u001b[0;34m\u001b[0m\u001b[0m\n\u001b[1;32m   4538\u001b[0m         return self.reindex_indexer(new_axis=new_labels, indexer=indexer,\n\u001b[0;32m-> 4539\u001b[0;31m                                     axis=axis, allow_dups=True)\n\u001b[0m\u001b[1;32m   4540\u001b[0m \u001b[0;34m\u001b[0m\u001b[0m\n\u001b[1;32m   4541\u001b[0m     \u001b[0;32mdef\u001b[0m \u001b[0mmerge\u001b[0m\u001b[0;34m(\u001b[0m\u001b[0mself\u001b[0m\u001b[0;34m,\u001b[0m \u001b[0mother\u001b[0m\u001b[0;34m,\u001b[0m \u001b[0mlsuffix\u001b[0m\u001b[0;34m=\u001b[0m\u001b[0;34m''\u001b[0m\u001b[0;34m,\u001b[0m \u001b[0mrsuffix\u001b[0m\u001b[0;34m=\u001b[0m\u001b[0;34m''\u001b[0m\u001b[0;34m)\u001b[0m\u001b[0;34m:\u001b[0m\u001b[0;34m\u001b[0m\u001b[0m\n",
      "\u001b[0;32m~/.local/lib/python3.6/site-packages/pandas/core/internals.py\u001b[0m in \u001b[0;36mreindex_indexer\u001b[0;34m(self, new_axis, indexer, axis, fill_value, allow_dups, copy)\u001b[0m\n\u001b[1;32m   4423\u001b[0m             new_blocks = [blk.take_nd(indexer, axis=axis, fill_tuple=(\n\u001b[1;32m   4424\u001b[0m                 fill_value if fill_value is not None else blk.fill_value,))\n\u001b[0;32m-> 4425\u001b[0;31m                 for blk in self.blocks]\n\u001b[0m\u001b[1;32m   4426\u001b[0m \u001b[0;34m\u001b[0m\u001b[0m\n\u001b[1;32m   4427\u001b[0m         \u001b[0mnew_axes\u001b[0m \u001b[0;34m=\u001b[0m \u001b[0mlist\u001b[0m\u001b[0;34m(\u001b[0m\u001b[0mself\u001b[0m\u001b[0;34m.\u001b[0m\u001b[0maxes\u001b[0m\u001b[0;34m)\u001b[0m\u001b[0;34m\u001b[0m\u001b[0m\n",
      "\u001b[0;32m~/.local/lib/python3.6/site-packages/pandas/core/internals.py\u001b[0m in \u001b[0;36m<listcomp>\u001b[0;34m(.0)\u001b[0m\n\u001b[1;32m   4423\u001b[0m             new_blocks = [blk.take_nd(indexer, axis=axis, fill_tuple=(\n\u001b[1;32m   4424\u001b[0m                 fill_value if fill_value is not None else blk.fill_value,))\n\u001b[0;32m-> 4425\u001b[0;31m                 for blk in self.blocks]\n\u001b[0m\u001b[1;32m   4426\u001b[0m \u001b[0;34m\u001b[0m\u001b[0m\n\u001b[1;32m   4427\u001b[0m         \u001b[0mnew_axes\u001b[0m \u001b[0;34m=\u001b[0m \u001b[0mlist\u001b[0m\u001b[0;34m(\u001b[0m\u001b[0mself\u001b[0m\u001b[0;34m.\u001b[0m\u001b[0maxes\u001b[0m\u001b[0;34m)\u001b[0m\u001b[0;34m\u001b[0m\u001b[0m\n",
      "\u001b[0;32m~/.local/lib/python3.6/site-packages/pandas/core/internals.py\u001b[0m in \u001b[0;36mtake_nd\u001b[0;34m(self, indexer, axis, new_mgr_locs, fill_tuple)\u001b[0m\n\u001b[1;32m   1256\u001b[0m             \u001b[0mfill_value\u001b[0m \u001b[0;34m=\u001b[0m \u001b[0mfill_tuple\u001b[0m\u001b[0;34m[\u001b[0m\u001b[0;36m0\u001b[0m\u001b[0;34m]\u001b[0m\u001b[0;34m\u001b[0m\u001b[0m\n\u001b[1;32m   1257\u001b[0m             new_values = algos.take_nd(values, indexer, axis=axis,\n\u001b[0;32m-> 1258\u001b[0;31m                                        allow_fill=True, fill_value=fill_value)\n\u001b[0m\u001b[1;32m   1259\u001b[0m \u001b[0;34m\u001b[0m\u001b[0m\n\u001b[1;32m   1260\u001b[0m         \u001b[0;32mif\u001b[0m \u001b[0mnew_mgr_locs\u001b[0m \u001b[0;32mis\u001b[0m \u001b[0;32mNone\u001b[0m\u001b[0;34m:\u001b[0m\u001b[0;34m\u001b[0m\u001b[0m\n",
      "\u001b[0;32m~/.local/lib/python3.6/site-packages/pandas/core/algorithms.py\u001b[0m in \u001b[0;36mtake_nd\u001b[0;34m(arr, indexer, axis, out, fill_value, mask_info, allow_fill)\u001b[0m\n\u001b[1;32m   1653\u001b[0m             \u001b[0mout\u001b[0m \u001b[0;34m=\u001b[0m \u001b[0mnp\u001b[0m\u001b[0;34m.\u001b[0m\u001b[0mempty\u001b[0m\u001b[0;34m(\u001b[0m\u001b[0mout_shape\u001b[0m\u001b[0;34m,\u001b[0m \u001b[0mdtype\u001b[0m\u001b[0;34m=\u001b[0m\u001b[0mdtype\u001b[0m\u001b[0;34m,\u001b[0m \u001b[0morder\u001b[0m\u001b[0;34m=\u001b[0m\u001b[0;34m'F'\u001b[0m\u001b[0;34m)\u001b[0m\u001b[0;34m\u001b[0m\u001b[0m\n\u001b[1;32m   1654\u001b[0m         \u001b[0;32melse\u001b[0m\u001b[0;34m:\u001b[0m\u001b[0;34m\u001b[0m\u001b[0m\n\u001b[0;32m-> 1655\u001b[0;31m             \u001b[0mout\u001b[0m \u001b[0;34m=\u001b[0m \u001b[0mnp\u001b[0m\u001b[0;34m.\u001b[0m\u001b[0mempty\u001b[0m\u001b[0;34m(\u001b[0m\u001b[0mout_shape\u001b[0m\u001b[0;34m,\u001b[0m \u001b[0mdtype\u001b[0m\u001b[0;34m=\u001b[0m\u001b[0mdtype\u001b[0m\u001b[0;34m)\u001b[0m\u001b[0;34m\u001b[0m\u001b[0m\n\u001b[0m\u001b[1;32m   1656\u001b[0m \u001b[0;34m\u001b[0m\u001b[0m\n\u001b[1;32m   1657\u001b[0m     func = _get_take_nd_function(arr.ndim, arr.dtype, out.dtype, axis=axis,\n",
      "\u001b[0;31mMemoryError\u001b[0m: "
     ]
    }
   ],
   "source": [
    "estimating_q(df_exp_beta, df_gen_beta)"
   ]
  },
  {
   "cell_type": "code",
   "execution_count": null,
   "metadata": {},
   "outputs": [],
   "source": []
  }
 ],
 "metadata": {
  "kernelspec": {
   "display_name": "Python 3",
   "language": "python",
   "name": "python3"
  },
  "language_info": {
   "codemirror_mode": {
    "name": "ipython",
    "version": 3
   },
   "file_extension": ".py",
   "mimetype": "text/x-python",
   "name": "python",
   "nbconvert_exporter": "python",
   "pygments_lexer": "ipython3",
   "version": "3.6.6"
  }
 },
 "nbformat": 4,
 "nbformat_minor": 2
}
