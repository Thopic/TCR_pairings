{
 "cells": [
  {
   "cell_type": "markdown",
   "metadata": {},
   "source": [
    "# Distances and entropies\n",
    "\n",
    "Mostly compute the result of table 2."
   ]
  },
  {
   "cell_type": "code",
   "execution_count": 1,
   "metadata": {},
   "outputs": [],
   "source": [
    "# Experiment selection : \n",
    "exp=\"exp3\""
   ]
  },
  {
   "cell_type": "code",
   "execution_count": 2,
   "metadata": {},
   "outputs": [],
   "source": [
    "from __future__ import division, print_function\n",
    "from IPython.display import display, HTML\n",
    "import pandas as pd\n",
    "import numpy as np\n",
    "import seaborn as sns\n",
    "from scipy import optimize\n",
    "import matplotlib.pyplot as plt\n",
    "from matplotlib import ticker\n",
    "from IPython.display import display, Math, Latex\n",
    "from math import log, sqrt\n",
    "import editdistance\n",
    "import random\n",
    "\n",
    "\n",
    "filepairsab = \"../Datas/\"+exp+\"/pairs_ab.tsv.gz\"\n",
    "filepairsaa = \"../Datas/\"+exp+\"/pairs_aa.tsv.gz\"\n",
    "filepairsbb = \"../Datas/\"+exp+\"/pairs_bb.tsv.gz\"\n",
    "\n",
    "def KL_distance(v1, v2):\n",
    "    d1 = v1.value_counts()/len(v1)\n",
    "    d2 = v2.value_counts()/len(v2)\n",
    "    df = pd.concat([d1, d2], axis=1, keys=[\"a\", \"b\"], sort=True)\n",
    "    df = df.dropna(how=\"any\")\n",
    "    df[\"divergence\"] = df.apply(lambda s: s.a*log(s.a/s.b,2), axis=1)\n",
    "    return np.sum(df.divergence)"
   ]
  },
  {
   "cell_type": "code",
   "execution_count": 3,
   "metadata": {},
   "outputs": [],
   "source": [
    "dfaa = pd.read_csv(filepairsaa, sep=\"\\t\")\n",
    "dfab = pd.read_csv(filepairsab, sep=\"\\t\")\n",
    "dfbb = pd.read_csv(filepairsbb, sep=\"\\t\")"
   ]
  },
  {
   "cell_type": "code",
   "execution_count": 4,
   "metadata": {},
   "outputs": [],
   "source": [
    "def bootstrapping_std_error(df, serie):\n",
    "    s = []\n",
    "    for i in range(50):\n",
    "        s.append(np.std(df.sample(frac=1, replace=True)[serie]))\n",
    "    return np.std(s)"
   ]
  },
  {
   "cell_type": "code",
   "execution_count": 5,
   "metadata": {},
   "outputs": [],
   "source": [
    "def properties_distribution(dfxx):\n",
    "    print(\"Length:\")\n",
    "    print(\"Mean:\")\n",
    "    print(\"Non-coding, paired\", np.mean(dfxx[dfxx.status_1 == \"Out\"].cdr3Length_1))\n",
    "    print(\"Functional\", np.mean(dfxx[dfxx.status_2 == \"Out\"].cdr3Length_1))\n",
    "    print(\"coding, paired\", np.mean(dfxx[dfxx.status_1 == \"In\"].cdr3Length_1))\n",
    "    print(\"\\nStandard deviation: \")\n",
    "    print(\"Non-coding, paired\", np.std(dfxx[dfxx.status_1 == \"Out\"].cdr3Length_1), \n",
    "          \", error:\", bootstrapping_std_error(dfxx[dfxx.status_1 == \"Out\"], \"cdr3Length_1\"))\n",
    "    print(\"Functional\", np.std(dfxx[dfxx.status_2 == \"Out\"].cdr3Length_1),\n",
    "          \", error:\", bootstrapping_std_error(dfxx[dfxx.status_2 == \"Out\"], \"cdr3Length_1\"))\n",
    "    print(\"coding\", np.std(dfxx[dfxx.status_1 == \"In\"].cdr3Length_1),\n",
    "          \", error:\", bootstrapping_std_error(dfxx[dfxx.status_1 == \"In\"], \"cdr3Length_1\"))\n",
    "\n",
    "    df_funct = dfxx[dfxx.status_2 == \"Out\"]\n",
    "    df_noncoding = dfxx[dfxx.status_1 == \"Out\"]\n",
    "    df_coding = dfxx[dfxx.status_1 == \"In\"]\n",
    "\n",
    "    print(\"\\n\\nKL divergence:\")\n",
    "    print(\"\\nV :\")\n",
    "    print(\"Functional | Non-coding :\",KL_distance(df_funct.vname_1, df_noncoding.vname_1))\n",
    "    print(\"Functional | Coding :\",KL_distance(df_funct.vname_1, df_coding.vname_1))\n",
    "    print(\"Coding | Non-coding :\",KL_distance(df_coding.vname_1, df_noncoding.vname_1))\n",
    "    print(\"\\nJ :\")\n",
    "    print(\"Functional | Non-coding :\",KL_distance(df_funct.jname_1, df_noncoding.jname_1))\n",
    "    print(\"Functional | Coding :\",KL_distance(df_funct.jname_1, df_coding.jname_1))\n",
    "    print(\"Coding | Non-coding :\",KL_distance(df_noncoding.jname_1, df_coding.jname_1))\n",
    "    \n",
    "    f, ax = plt.subplots(figsize=(10,6))\n",
    "\n",
    "    vFunc = dfxx[dfxx.status_1 == \"Out\"].cdr3Length_2.value_counts()\n",
    "    # print(vFunc)\n",
    "    vFuncval = vFunc.values/sum(vFunc)\n",
    "    vFunckey = vFunc.keys()\n",
    "\n",
    "    vOut = dfxx[dfxx.status_1 == \"Out\"].cdr3Length_1.value_counts()\n",
    "    vOutval = vOut.values/sum(vOut)\n",
    "    vOutkey = vOut.keys()\n",
    "\n",
    "    plt.style.use('seaborn')\n",
    "    ax.bar(vFunckey, vFuncval, alpha=1, color=\"xkcd:electric blue\", label=\"Functional\")\n",
    "    ax.bar(vOutkey, vOutval, alpha=1, color=\"xkcd:purple\", label=\"Out-of-frame (paired)\")\n",
    "    ax.set(xlabel=\"Length of CDR3\", ylabel=\"\", xlim=(10,70))\n",
    "    ax.legend()\n",
    "    ax.grid(visible=False)\n",
    "    plt.savefig(\"cdr3_length_a.pdf\")\n",
    "    plt.show()"
   ]
  },
  {
   "cell_type": "markdown",
   "metadata": {},
   "source": [
    "### Betas sequences"
   ]
  },
  {
   "cell_type": "code",
   "execution_count": 6,
   "metadata": {},
   "outputs": [
    {
     "name": "stdout",
     "output_type": "stream",
     "text": [
      "Length:\n",
      "Mean:\n",
      "Non-coding, paired 43.34307585247043\n",
      "Functional 43.617063492063494\n",
      "coding, paired 42.131028997035216\n",
      "\n",
      "Standard deviation: \n",
      "Non-coding, paired 7.876122650522693 , error: 0.18236679724323626\n",
      "Functional 5.073486413975518 , error: 0.10323132000784893\n",
      "coding 5.556437899420442 , error: 0.04806778644063823\n",
      "\n",
      "\n",
      "KL divergence:\n",
      "\n",
      "V :\n",
      "Functional | Non-coding : 0.9588285961682098\n",
      "Functional | Coding : 0.5251338622978046\n",
      "Coding | Non-coding : 0.7781032589912633\n",
      "\n",
      "J :\n",
      "Functional | Non-coding : 0.11280310982559512\n",
      "Functional | Coding : 0.07468228540253329\n",
      "Coding | Non-coding : 0.0654362822938486\n"
     ]
    },
    {
     "data": {
      "image/png": "[encoded data removed]",
      "text/plain": [
       "<Figure size 720x432 with 1 Axes>"
      ]
     },
     "metadata": {
      "needs_background": "light"
     },
     "output_type": "display_data"
    }
   ],
   "source": [
    "properties_distribution(dfbb)"
   ]
  },
  {
   "cell_type": "markdown",
   "metadata": {},
   "source": [
    "### Alphas sequences"
   ]
  },
  {
   "cell_type": "code",
   "execution_count": 7,
   "metadata": {},
   "outputs": [
    {
     "name": "stdout",
     "output_type": "stream",
     "text": [
      "Length:\n",
      "Mean:\n",
      "Non-coding, paired 38.47985989492119\n",
      "Functional 40.07007851119511\n",
      "coding, paired 37.40671429892101\n",
      "\n",
      "Standard deviation: \n",
      "Non-coding, paired 7.928618538202512 , error: 0.06273274397789187\n",
      "Functional 6.362786890681333 , error: 0.06861242599530228\n",
      "coding 6.021776699194649 , error: 0.018791985706950093\n",
      "\n",
      "\n",
      "KL divergence:\n",
      "\n",
      "V :\n",
      "Functional | Non-coding : 0.6859103651314304\n",
      "Functional | Coding : 0.31447226110126925\n",
      "Coding | Non-coding : 1.3922811905506074\n",
      "\n",
      "J :\n",
      "Functional | Non-coding : 0.11265447720219769\n",
      "Functional | Coding : 0.0847956431235837\n",
      "Coding | Non-coding : 0.11970944683196513\n"
     ]
    },
    {
     "data": {
      "image/png": "[encoded data removed]",
      "text/plain": [
       "<Figure size 720x432 with 1 Axes>"
      ]
     },
     "metadata": {},
     "output_type": "display_data"
    }
   ],
   "source": [
    "properties_distribution(dfaa)"
   ]
  }
 ],
 "metadata": {
  "kernelspec": {
   "display_name": "Python 3",
   "language": "python",
   "name": "python3"
  },
  "language_info": {
   "codemirror_mode": {
    "name": "ipython",
    "version": 3
   },
   "file_extension": ".py",
   "mimetype": "text/x-python",
   "name": "python",
   "nbconvert_exporter": "python",
   "pygments_lexer": "ipython3",
   "version": "3.6.7"
  }
 },
 "nbformat": 4,
 "nbformat_minor": 2
}
